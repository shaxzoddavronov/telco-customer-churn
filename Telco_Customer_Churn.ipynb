{
 "cells": [
  {
   "cell_type": "code",
   "execution_count": 1,
   "id": "f00c2edc",
   "metadata": {},
   "outputs": [],
   "source": [
    "import pandas as pd\n",
    "import numpy as np\n",
    "import matplotlib.pyplot as plt\n",
    "import seaborn as sns\n",
    "from sklearn.model_selection import train_test_split\n",
    "from sklearn.preprocessing import LabelEncoder,OrdinalEncoder\n",
    "from sklearn.model_selection import GridSearchCV\n",
    "from sklearn.neighbors import KNeighborsClassifier\n",
    "from sklearn.tree import DecisionTreeClassifier,plot_tree\n",
    "from sklearn.ensemble import RandomForestClassifier\n",
    "from sklearn.svm import SVC\n",
    "from xgboost import XGBClassifier\n",
    "from sklearn.metrics import classification_report\n",
    "from sklearn.metrics import confusion_matrix,accuracy_score\n",
    "from sklearn.metrics import roc_curve,auc,RocCurveDisplay\n",
    "import json,pickle,joblib"
   ]
  },
  {
   "cell_type": "code",
   "execution_count": 2,
   "id": "7163b0c4",
   "metadata": {},
   "outputs": [
    {
     "data": {
      "text/html": [
       "<div>\n",
       "<style scoped>\n",
       "    .dataframe tbody tr th:only-of-type {\n",
       "        vertical-align: middle;\n",
       "    }\n",
       "\n",
       "    .dataframe tbody tr th {\n",
       "        vertical-align: top;\n",
       "    }\n",
       "\n",
       "    .dataframe thead th {\n",
       "        text-align: right;\n",
       "    }\n",
       "</style>\n",
       "<table border=\"1\" class=\"dataframe\">\n",
       "  <thead>\n",
       "    <tr style=\"text-align: right;\">\n",
       "      <th></th>\n",
       "      <th>state</th>\n",
       "      <th>account_length</th>\n",
       "      <th>area_code</th>\n",
       "      <th>international_plan</th>\n",
       "      <th>voice_mail_plan</th>\n",
       "      <th>number_vmail_messages</th>\n",
       "      <th>total_day_minutes</th>\n",
       "      <th>total_day_calls</th>\n",
       "      <th>total_day_charge</th>\n",
       "      <th>total_eve_minutes</th>\n",
       "      <th>total_eve_calls</th>\n",
       "      <th>total_eve_charge</th>\n",
       "      <th>total_night_minutes</th>\n",
       "      <th>total_night_calls</th>\n",
       "      <th>total_night_charge</th>\n",
       "      <th>total_intl_minutes</th>\n",
       "      <th>total_intl_calls</th>\n",
       "      <th>total_intl_charge</th>\n",
       "      <th>number_customer_service_calls</th>\n",
       "      <th>churn</th>\n",
       "    </tr>\n",
       "  </thead>\n",
       "  <tbody>\n",
       "    <tr>\n",
       "      <th>0</th>\n",
       "      <td>OH</td>\n",
       "      <td>107</td>\n",
       "      <td>area_code_415</td>\n",
       "      <td>no</td>\n",
       "      <td>yes</td>\n",
       "      <td>26</td>\n",
       "      <td>161.6</td>\n",
       "      <td>123</td>\n",
       "      <td>27.47</td>\n",
       "      <td>195.5</td>\n",
       "      <td>103</td>\n",
       "      <td>16.62</td>\n",
       "      <td>254.4</td>\n",
       "      <td>103</td>\n",
       "      <td>11.45</td>\n",
       "      <td>13.7</td>\n",
       "      <td>3</td>\n",
       "      <td>3.70</td>\n",
       "      <td>1</td>\n",
       "      <td>no</td>\n",
       "    </tr>\n",
       "    <tr>\n",
       "      <th>1</th>\n",
       "      <td>NJ</td>\n",
       "      <td>137</td>\n",
       "      <td>area_code_415</td>\n",
       "      <td>no</td>\n",
       "      <td>no</td>\n",
       "      <td>0</td>\n",
       "      <td>243.4</td>\n",
       "      <td>114</td>\n",
       "      <td>41.38</td>\n",
       "      <td>121.2</td>\n",
       "      <td>110</td>\n",
       "      <td>10.30</td>\n",
       "      <td>162.6</td>\n",
       "      <td>104</td>\n",
       "      <td>7.32</td>\n",
       "      <td>12.2</td>\n",
       "      <td>5</td>\n",
       "      <td>3.29</td>\n",
       "      <td>0</td>\n",
       "      <td>no</td>\n",
       "    </tr>\n",
       "    <tr>\n",
       "      <th>2</th>\n",
       "      <td>OH</td>\n",
       "      <td>84</td>\n",
       "      <td>area_code_408</td>\n",
       "      <td>yes</td>\n",
       "      <td>no</td>\n",
       "      <td>0</td>\n",
       "      <td>299.4</td>\n",
       "      <td>71</td>\n",
       "      <td>50.90</td>\n",
       "      <td>61.9</td>\n",
       "      <td>88</td>\n",
       "      <td>5.26</td>\n",
       "      <td>196.9</td>\n",
       "      <td>89</td>\n",
       "      <td>8.86</td>\n",
       "      <td>6.6</td>\n",
       "      <td>7</td>\n",
       "      <td>1.78</td>\n",
       "      <td>2</td>\n",
       "      <td>no</td>\n",
       "    </tr>\n",
       "    <tr>\n",
       "      <th>3</th>\n",
       "      <td>OK</td>\n",
       "      <td>75</td>\n",
       "      <td>area_code_415</td>\n",
       "      <td>yes</td>\n",
       "      <td>no</td>\n",
       "      <td>0</td>\n",
       "      <td>166.7</td>\n",
       "      <td>113</td>\n",
       "      <td>28.34</td>\n",
       "      <td>148.3</td>\n",
       "      <td>122</td>\n",
       "      <td>12.61</td>\n",
       "      <td>186.9</td>\n",
       "      <td>121</td>\n",
       "      <td>8.41</td>\n",
       "      <td>10.1</td>\n",
       "      <td>3</td>\n",
       "      <td>2.73</td>\n",
       "      <td>3</td>\n",
       "      <td>no</td>\n",
       "    </tr>\n",
       "    <tr>\n",
       "      <th>4</th>\n",
       "      <td>MA</td>\n",
       "      <td>121</td>\n",
       "      <td>area_code_510</td>\n",
       "      <td>no</td>\n",
       "      <td>yes</td>\n",
       "      <td>24</td>\n",
       "      <td>218.2</td>\n",
       "      <td>88</td>\n",
       "      <td>37.09</td>\n",
       "      <td>348.5</td>\n",
       "      <td>108</td>\n",
       "      <td>29.62</td>\n",
       "      <td>212.6</td>\n",
       "      <td>118</td>\n",
       "      <td>9.57</td>\n",
       "      <td>7.5</td>\n",
       "      <td>7</td>\n",
       "      <td>2.03</td>\n",
       "      <td>3</td>\n",
       "      <td>no</td>\n",
       "    </tr>\n",
       "  </tbody>\n",
       "</table>\n",
       "</div>"
      ],
      "text/plain": [
       "  state  account_length      area_code international_plan voice_mail_plan  \\\n",
       "0    OH             107  area_code_415                 no             yes   \n",
       "1    NJ             137  area_code_415                 no              no   \n",
       "2    OH              84  area_code_408                yes              no   \n",
       "3    OK              75  area_code_415                yes              no   \n",
       "4    MA             121  area_code_510                 no             yes   \n",
       "\n",
       "   number_vmail_messages  total_day_minutes  total_day_calls  \\\n",
       "0                     26              161.6              123   \n",
       "1                      0              243.4              114   \n",
       "2                      0              299.4               71   \n",
       "3                      0              166.7              113   \n",
       "4                     24              218.2               88   \n",
       "\n",
       "   total_day_charge  total_eve_minutes  total_eve_calls  total_eve_charge  \\\n",
       "0             27.47              195.5              103             16.62   \n",
       "1             41.38              121.2              110             10.30   \n",
       "2             50.90               61.9               88              5.26   \n",
       "3             28.34              148.3              122             12.61   \n",
       "4             37.09              348.5              108             29.62   \n",
       "\n",
       "   total_night_minutes  total_night_calls  total_night_charge  \\\n",
       "0                254.4                103               11.45   \n",
       "1                162.6                104                7.32   \n",
       "2                196.9                 89                8.86   \n",
       "3                186.9                121                8.41   \n",
       "4                212.6                118                9.57   \n",
       "\n",
       "   total_intl_minutes  total_intl_calls  total_intl_charge  \\\n",
       "0                13.7                 3               3.70   \n",
       "1                12.2                 5               3.29   \n",
       "2                 6.6                 7               1.78   \n",
       "3                10.1                 3               2.73   \n",
       "4                 7.5                 7               2.03   \n",
       "\n",
       "   number_customer_service_calls churn  \n",
       "0                              1    no  \n",
       "1                              0    no  \n",
       "2                              2    no  \n",
       "3                              3    no  \n",
       "4                              3    no  "
      ]
     },
     "execution_count": 2,
     "metadata": {},
     "output_type": "execute_result"
    }
   ],
   "source": [
    "train=pd.read_csv('train.csv')\n",
    "test=pd.read_csv('test.csv',index_col=0)\n",
    "train.head()"
   ]
  },
  {
   "cell_type": "markdown",
   "id": "3f8b5abb",
   "metadata": {},
   "source": [
    "# Data Exploration"
   ]
  },
  {
   "cell_type": "code",
   "execution_count": 3,
   "id": "0a41462a",
   "metadata": {},
   "outputs": [
    {
     "name": "stdout",
     "output_type": "stream",
     "text": [
      "<class 'pandas.core.frame.DataFrame'>\n",
      "RangeIndex: 4250 entries, 0 to 4249\n",
      "Data columns (total 20 columns):\n",
      " #   Column                         Non-Null Count  Dtype  \n",
      "---  ------                         --------------  -----  \n",
      " 0   state                          4250 non-null   object \n",
      " 1   account_length                 4250 non-null   int64  \n",
      " 2   area_code                      4250 non-null   object \n",
      " 3   international_plan             4250 non-null   object \n",
      " 4   voice_mail_plan                4250 non-null   object \n",
      " 5   number_vmail_messages          4250 non-null   int64  \n",
      " 6   total_day_minutes              4250 non-null   float64\n",
      " 7   total_day_calls                4250 non-null   int64  \n",
      " 8   total_day_charge               4250 non-null   float64\n",
      " 9   total_eve_minutes              4250 non-null   float64\n",
      " 10  total_eve_calls                4250 non-null   int64  \n",
      " 11  total_eve_charge               4250 non-null   float64\n",
      " 12  total_night_minutes            4250 non-null   float64\n",
      " 13  total_night_calls              4250 non-null   int64  \n",
      " 14  total_night_charge             4250 non-null   float64\n",
      " 15  total_intl_minutes             4250 non-null   float64\n",
      " 16  total_intl_calls               4250 non-null   int64  \n",
      " 17  total_intl_charge              4250 non-null   float64\n",
      " 18  number_customer_service_calls  4250 non-null   int64  \n",
      " 19  churn                          4250 non-null   object \n",
      "dtypes: float64(8), int64(7), object(5)\n",
      "memory usage: 664.2+ KB\n"
     ]
    }
   ],
   "source": [
    "train.info()"
   ]
  },
  {
   "cell_type": "code",
   "execution_count": 4,
   "id": "3f5f6d34",
   "metadata": {},
   "outputs": [
    {
     "data": {
      "text/html": [
       "<div>\n",
       "<style scoped>\n",
       "    .dataframe tbody tr th:only-of-type {\n",
       "        vertical-align: middle;\n",
       "    }\n",
       "\n",
       "    .dataframe tbody tr th {\n",
       "        vertical-align: top;\n",
       "    }\n",
       "\n",
       "    .dataframe thead th {\n",
       "        text-align: right;\n",
       "    }\n",
       "</style>\n",
       "<table border=\"1\" class=\"dataframe\">\n",
       "  <thead>\n",
       "    <tr style=\"text-align: right;\">\n",
       "      <th></th>\n",
       "      <th>count</th>\n",
       "      <th>mean</th>\n",
       "      <th>std</th>\n",
       "      <th>min</th>\n",
       "      <th>25%</th>\n",
       "      <th>50%</th>\n",
       "      <th>75%</th>\n",
       "      <th>max</th>\n",
       "    </tr>\n",
       "  </thead>\n",
       "  <tbody>\n",
       "    <tr>\n",
       "      <th>account_length</th>\n",
       "      <td>4250.0</td>\n",
       "      <td>100.236235</td>\n",
       "      <td>39.698401</td>\n",
       "      <td>1.0</td>\n",
       "      <td>73.0000</td>\n",
       "      <td>100.00</td>\n",
       "      <td>127.0000</td>\n",
       "      <td>243.00</td>\n",
       "    </tr>\n",
       "    <tr>\n",
       "      <th>number_vmail_messages</th>\n",
       "      <td>4250.0</td>\n",
       "      <td>7.631765</td>\n",
       "      <td>13.439882</td>\n",
       "      <td>0.0</td>\n",
       "      <td>0.0000</td>\n",
       "      <td>0.00</td>\n",
       "      <td>16.0000</td>\n",
       "      <td>52.00</td>\n",
       "    </tr>\n",
       "    <tr>\n",
       "      <th>total_day_minutes</th>\n",
       "      <td>4250.0</td>\n",
       "      <td>180.259600</td>\n",
       "      <td>54.012373</td>\n",
       "      <td>0.0</td>\n",
       "      <td>143.3250</td>\n",
       "      <td>180.45</td>\n",
       "      <td>216.2000</td>\n",
       "      <td>351.50</td>\n",
       "    </tr>\n",
       "    <tr>\n",
       "      <th>total_day_calls</th>\n",
       "      <td>4250.0</td>\n",
       "      <td>99.907294</td>\n",
       "      <td>19.850817</td>\n",
       "      <td>0.0</td>\n",
       "      <td>87.0000</td>\n",
       "      <td>100.00</td>\n",
       "      <td>113.0000</td>\n",
       "      <td>165.00</td>\n",
       "    </tr>\n",
       "    <tr>\n",
       "      <th>total_day_charge</th>\n",
       "      <td>4250.0</td>\n",
       "      <td>30.644682</td>\n",
       "      <td>9.182096</td>\n",
       "      <td>0.0</td>\n",
       "      <td>24.3650</td>\n",
       "      <td>30.68</td>\n",
       "      <td>36.7500</td>\n",
       "      <td>59.76</td>\n",
       "    </tr>\n",
       "    <tr>\n",
       "      <th>total_eve_minutes</th>\n",
       "      <td>4250.0</td>\n",
       "      <td>200.173906</td>\n",
       "      <td>50.249518</td>\n",
       "      <td>0.0</td>\n",
       "      <td>165.9250</td>\n",
       "      <td>200.70</td>\n",
       "      <td>233.7750</td>\n",
       "      <td>359.30</td>\n",
       "    </tr>\n",
       "    <tr>\n",
       "      <th>total_eve_calls</th>\n",
       "      <td>4250.0</td>\n",
       "      <td>100.176471</td>\n",
       "      <td>19.908591</td>\n",
       "      <td>0.0</td>\n",
       "      <td>87.0000</td>\n",
       "      <td>100.00</td>\n",
       "      <td>114.0000</td>\n",
       "      <td>170.00</td>\n",
       "    </tr>\n",
       "    <tr>\n",
       "      <th>total_eve_charge</th>\n",
       "      <td>4250.0</td>\n",
       "      <td>17.015012</td>\n",
       "      <td>4.271212</td>\n",
       "      <td>0.0</td>\n",
       "      <td>14.1025</td>\n",
       "      <td>17.06</td>\n",
       "      <td>19.8675</td>\n",
       "      <td>30.54</td>\n",
       "    </tr>\n",
       "    <tr>\n",
       "      <th>total_night_minutes</th>\n",
       "      <td>4250.0</td>\n",
       "      <td>200.527882</td>\n",
       "      <td>50.353548</td>\n",
       "      <td>0.0</td>\n",
       "      <td>167.2250</td>\n",
       "      <td>200.45</td>\n",
       "      <td>234.7000</td>\n",
       "      <td>395.00</td>\n",
       "    </tr>\n",
       "    <tr>\n",
       "      <th>total_night_calls</th>\n",
       "      <td>4250.0</td>\n",
       "      <td>99.839529</td>\n",
       "      <td>20.093220</td>\n",
       "      <td>0.0</td>\n",
       "      <td>86.0000</td>\n",
       "      <td>100.00</td>\n",
       "      <td>113.0000</td>\n",
       "      <td>175.00</td>\n",
       "    </tr>\n",
       "    <tr>\n",
       "      <th>total_night_charge</th>\n",
       "      <td>4250.0</td>\n",
       "      <td>9.023892</td>\n",
       "      <td>2.265922</td>\n",
       "      <td>0.0</td>\n",
       "      <td>7.5225</td>\n",
       "      <td>9.02</td>\n",
       "      <td>10.5600</td>\n",
       "      <td>17.77</td>\n",
       "    </tr>\n",
       "    <tr>\n",
       "      <th>total_intl_minutes</th>\n",
       "      <td>4250.0</td>\n",
       "      <td>10.256071</td>\n",
       "      <td>2.760102</td>\n",
       "      <td>0.0</td>\n",
       "      <td>8.5000</td>\n",
       "      <td>10.30</td>\n",
       "      <td>12.0000</td>\n",
       "      <td>20.00</td>\n",
       "    </tr>\n",
       "    <tr>\n",
       "      <th>total_intl_calls</th>\n",
       "      <td>4250.0</td>\n",
       "      <td>4.426353</td>\n",
       "      <td>2.463069</td>\n",
       "      <td>0.0</td>\n",
       "      <td>3.0000</td>\n",
       "      <td>4.00</td>\n",
       "      <td>6.0000</td>\n",
       "      <td>20.00</td>\n",
       "    </tr>\n",
       "    <tr>\n",
       "      <th>total_intl_charge</th>\n",
       "      <td>4250.0</td>\n",
       "      <td>2.769654</td>\n",
       "      <td>0.745204</td>\n",
       "      <td>0.0</td>\n",
       "      <td>2.3000</td>\n",
       "      <td>2.78</td>\n",
       "      <td>3.2400</td>\n",
       "      <td>5.40</td>\n",
       "    </tr>\n",
       "    <tr>\n",
       "      <th>number_customer_service_calls</th>\n",
       "      <td>4250.0</td>\n",
       "      <td>1.559059</td>\n",
       "      <td>1.311434</td>\n",
       "      <td>0.0</td>\n",
       "      <td>1.0000</td>\n",
       "      <td>1.00</td>\n",
       "      <td>2.0000</td>\n",
       "      <td>9.00</td>\n",
       "    </tr>\n",
       "  </tbody>\n",
       "</table>\n",
       "</div>"
      ],
      "text/plain": [
       "                                count        mean        std  min       25%  \\\n",
       "account_length                 4250.0  100.236235  39.698401  1.0   73.0000   \n",
       "number_vmail_messages          4250.0    7.631765  13.439882  0.0    0.0000   \n",
       "total_day_minutes              4250.0  180.259600  54.012373  0.0  143.3250   \n",
       "total_day_calls                4250.0   99.907294  19.850817  0.0   87.0000   \n",
       "total_day_charge               4250.0   30.644682   9.182096  0.0   24.3650   \n",
       "total_eve_minutes              4250.0  200.173906  50.249518  0.0  165.9250   \n",
       "total_eve_calls                4250.0  100.176471  19.908591  0.0   87.0000   \n",
       "total_eve_charge               4250.0   17.015012   4.271212  0.0   14.1025   \n",
       "total_night_minutes            4250.0  200.527882  50.353548  0.0  167.2250   \n",
       "total_night_calls              4250.0   99.839529  20.093220  0.0   86.0000   \n",
       "total_night_charge             4250.0    9.023892   2.265922  0.0    7.5225   \n",
       "total_intl_minutes             4250.0   10.256071   2.760102  0.0    8.5000   \n",
       "total_intl_calls               4250.0    4.426353   2.463069  0.0    3.0000   \n",
       "total_intl_charge              4250.0    2.769654   0.745204  0.0    2.3000   \n",
       "number_customer_service_calls  4250.0    1.559059   1.311434  0.0    1.0000   \n",
       "\n",
       "                                  50%       75%     max  \n",
       "account_length                 100.00  127.0000  243.00  \n",
       "number_vmail_messages            0.00   16.0000   52.00  \n",
       "total_day_minutes              180.45  216.2000  351.50  \n",
       "total_day_calls                100.00  113.0000  165.00  \n",
       "total_day_charge                30.68   36.7500   59.76  \n",
       "total_eve_minutes              200.70  233.7750  359.30  \n",
       "total_eve_calls                100.00  114.0000  170.00  \n",
       "total_eve_charge                17.06   19.8675   30.54  \n",
       "total_night_minutes            200.45  234.7000  395.00  \n",
       "total_night_calls              100.00  113.0000  175.00  \n",
       "total_night_charge               9.02   10.5600   17.77  \n",
       "total_intl_minutes              10.30   12.0000   20.00  \n",
       "total_intl_calls                 4.00    6.0000   20.00  \n",
       "total_intl_charge                2.78    3.2400    5.40  \n",
       "number_customer_service_calls    1.00    2.0000    9.00  "
      ]
     },
     "execution_count": 4,
     "metadata": {},
     "output_type": "execute_result"
    }
   ],
   "source": [
    "train.describe().T"
   ]
  },
  {
   "cell_type": "code",
   "execution_count": 5,
   "id": "c0b17a20",
   "metadata": {},
   "outputs": [
    {
     "data": {
      "text/plain": [
       "(4250, 20)"
      ]
     },
     "execution_count": 5,
     "metadata": {},
     "output_type": "execute_result"
    }
   ],
   "source": [
    "train.shape"
   ]
  },
  {
   "cell_type": "markdown",
   "id": "dcfffeba",
   "metadata": {},
   "source": [
    "we can see customer churn in USA states there"
   ]
  },
  {
   "cell_type": "code",
   "execution_count": 6,
   "id": "c7401741",
   "metadata": {},
   "outputs": [
    {
     "data": {
      "image/png": "[encoded data removed]",
      "text/plain": [
       "<Figure size 2500x500 with 1 Axes>"
      ]
     },
     "metadata": {},
     "output_type": "display_data"
    }
   ],
   "source": [
    "plt.figure(figsize=(25,5))\n",
    "sns.countplot(data=train,x='state',hue='churn',palette='Set1')\n",
    "plt.show()"
   ]
  },
  {
   "cell_type": "markdown",
   "id": "a892f0f2",
   "metadata": {},
   "source": [
    "There, some numerical statistics are visualized"
   ]
  },
  {
   "cell_type": "code",
   "execution_count": 7,
   "id": "6819d12a",
   "metadata": {},
   "outputs": [
    {
     "data": {
      "image/png": "[encoded data removed]",
      "text/plain": [
       "<Figure size 1600x1200 with 4 Axes>"
      ]
     },
     "metadata": {},
     "output_type": "display_data"
    }
   ],
   "source": [
    "fig,ax=plt.subplots(2,2,figsize=(16,12))\n",
    "fig.suptitle('Numerical Statistics')\n",
    "fig.subplots_adjust(wspace=0.3,hspace=0.3)\n",
    "\n",
    "sns.histplot(ax=ax[0,0],data=train,x='total_day_calls',hue='churn',multiple='stack',palette='YlOrRd')\n",
    "ax[0,0].set_title('Total day calls')\n",
    "sns.histplot(ax=ax[0,1],data=train,x='total_night_calls',hue='churn',multiple='stack',palette='Dark2')\n",
    "ax[0,1].set_title('Total night calls')\n",
    "sns.histplot(ax=ax[1,0],data=train,x='total_eve_calls',hue='churn',multiple='stack',palette='PRGn')\n",
    "ax[1,0].set_title('Total evening calls')\n",
    "sns.histplot(ax=ax[1,1],data=train,x='total_intl_calls',hue='churn',multiple='stack',palette='RdBu')\n",
    "ax[1,1].set_title('Total international calls')\n",
    "plt.show()"
   ]
  },
  {
   "cell_type": "markdown",
   "id": "598b65f5",
   "metadata": {},
   "source": [
    "Confusion matrix help us to define correlation with each other"
   ]
  },
  {
   "cell_type": "code",
   "execution_count": 8,
   "id": "8de11056",
   "metadata": {},
   "outputs": [
    {
     "data": {
      "text/html": [
       "<style type=\"text/css\">\n",
       "#T_d4a3b_row0_col0, #T_d4a3b_row1_col1, #T_d4a3b_row2_col2, #T_d4a3b_row2_col4, #T_d4a3b_row3_col3, #T_d4a3b_row4_col2, #T_d4a3b_row4_col4, #T_d4a3b_row5_col5, #T_d4a3b_row5_col7, #T_d4a3b_row6_col6, #T_d4a3b_row7_col5, #T_d4a3b_row7_col7, #T_d4a3b_row8_col8, #T_d4a3b_row8_col10, #T_d4a3b_row9_col9, #T_d4a3b_row10_col8, #T_d4a3b_row10_col10, #T_d4a3b_row11_col11, #T_d4a3b_row11_col13, #T_d4a3b_row12_col12, #T_d4a3b_row13_col11, #T_d4a3b_row13_col13, #T_d4a3b_row14_col14 {\n",
       "  background-color: #b40426;\n",
       "  color: #f1f1f1;\n",
       "}\n",
       "#T_d4a3b_row0_col1, #T_d4a3b_row0_col5, #T_d4a3b_row0_col7, #T_d4a3b_row0_col11, #T_d4a3b_row0_col13, #T_d4a3b_row1_col0, #T_d4a3b_row1_col3, #T_d4a3b_row1_col5, #T_d4a3b_row1_col7, #T_d4a3b_row1_col11, #T_d4a3b_row1_col13, #T_d4a3b_row3_col1, #T_d4a3b_row3_col5, #T_d4a3b_row3_col7, #T_d4a3b_row3_col12, #T_d4a3b_row6_col0, #T_d4a3b_row6_col2, #T_d4a3b_row6_col4, #T_d4a3b_row6_col14, #T_d4a3b_row8_col6, #T_d4a3b_row9_col2, #T_d4a3b_row9_col3, #T_d4a3b_row9_col4, #T_d4a3b_row10_col6, #T_d4a3b_row12_col1, #T_d4a3b_row14_col5, #T_d4a3b_row14_col7 {\n",
       "  background-color: #3c4ec2;\n",
       "  color: #f1f1f1;\n",
       "}\n",
       "#T_d4a3b_row0_col2, #T_d4a3b_row0_col4, #T_d4a3b_row0_col6, #T_d4a3b_row0_col9, #T_d4a3b_row0_col14, #T_d4a3b_row1_col2, #T_d4a3b_row1_col4, #T_d4a3b_row1_col6, #T_d4a3b_row1_col9, #T_d4a3b_row1_col12, #T_d4a3b_row2_col0, #T_d4a3b_row2_col1, #T_d4a3b_row2_col3, #T_d4a3b_row2_col6, #T_d4a3b_row2_col9, #T_d4a3b_row2_col12, #T_d4a3b_row2_col14, #T_d4a3b_row3_col2, #T_d4a3b_row3_col4, #T_d4a3b_row3_col6, #T_d4a3b_row3_col8, #T_d4a3b_row3_col9, #T_d4a3b_row3_col10, #T_d4a3b_row4_col0, #T_d4a3b_row4_col1, #T_d4a3b_row4_col3, #T_d4a3b_row4_col6, #T_d4a3b_row4_col9, #T_d4a3b_row4_col12, #T_d4a3b_row4_col14, #T_d4a3b_row5_col6, #T_d4a3b_row5_col11, #T_d4a3b_row5_col13, #T_d4a3b_row6_col1, #T_d4a3b_row6_col3, #T_d4a3b_row6_col5, #T_d4a3b_row6_col7, #T_d4a3b_row6_col12, #T_d4a3b_row7_col6, #T_d4a3b_row7_col11, #T_d4a3b_row7_col13, #T_d4a3b_row8_col3, #T_d4a3b_row8_col11, #T_d4a3b_row8_col13, #T_d4a3b_row9_col0, #T_d4a3b_row9_col1, #T_d4a3b_row9_col11, #T_d4a3b_row9_col12, #T_d4a3b_row9_col13, #T_d4a3b_row10_col3, #T_d4a3b_row10_col11, #T_d4a3b_row10_col13, #T_d4a3b_row11_col0, #T_d4a3b_row11_col1, #T_d4a3b_row11_col5, #T_d4a3b_row11_col7, #T_d4a3b_row11_col8, #T_d4a3b_row11_col9, #T_d4a3b_row11_col10, #T_d4a3b_row12_col2, #T_d4a3b_row12_col4, #T_d4a3b_row12_col6, #T_d4a3b_row12_col9, #T_d4a3b_row13_col0, #T_d4a3b_row13_col1, #T_d4a3b_row13_col5, #T_d4a3b_row13_col7, #T_d4a3b_row13_col8, #T_d4a3b_row13_col9, #T_d4a3b_row13_col10, #T_d4a3b_row14_col0, #T_d4a3b_row14_col2, #T_d4a3b_row14_col4, #T_d4a3b_row14_col6 {\n",
       "  background-color: #3b4cc0;\n",
       "  color: #f1f1f1;\n",
       "}\n",
       "#T_d4a3b_row0_col3, #T_d4a3b_row2_col11, #T_d4a3b_row2_col13, #T_d4a3b_row3_col0, #T_d4a3b_row4_col11, #T_d4a3b_row4_col13, #T_d4a3b_row8_col9, #T_d4a3b_row8_col12, #T_d4a3b_row10_col9, #T_d4a3b_row10_col12, #T_d4a3b_row11_col2, #T_d4a3b_row11_col4, #T_d4a3b_row13_col2, #T_d4a3b_row13_col4 {\n",
       "  background-color: #4055c8;\n",
       "  color: #f1f1f1;\n",
       "}\n",
       "#T_d4a3b_row0_col8, #T_d4a3b_row0_col10, #T_d4a3b_row0_col12, #T_d4a3b_row2_col5, #T_d4a3b_row2_col7, #T_d4a3b_row2_col8, #T_d4a3b_row2_col10, #T_d4a3b_row3_col11, #T_d4a3b_row3_col13, #T_d4a3b_row4_col5, #T_d4a3b_row4_col7, #T_d4a3b_row4_col8, #T_d4a3b_row4_col10, #T_d4a3b_row5_col0, #T_d4a3b_row5_col1, #T_d4a3b_row5_col3, #T_d4a3b_row5_col9, #T_d4a3b_row5_col12, #T_d4a3b_row5_col14, #T_d4a3b_row6_col8, #T_d4a3b_row6_col9, #T_d4a3b_row6_col10, #T_d4a3b_row7_col0, #T_d4a3b_row7_col1, #T_d4a3b_row7_col3, #T_d4a3b_row7_col9, #T_d4a3b_row7_col12, #T_d4a3b_row7_col14, #T_d4a3b_row8_col0, #T_d4a3b_row8_col2, #T_d4a3b_row8_col4, #T_d4a3b_row8_col5, #T_d4a3b_row8_col7, #T_d4a3b_row9_col5, #T_d4a3b_row9_col6, #T_d4a3b_row9_col7, #T_d4a3b_row9_col14, #T_d4a3b_row10_col0, #T_d4a3b_row10_col2, #T_d4a3b_row10_col4, #T_d4a3b_row10_col5, #T_d4a3b_row10_col7, #T_d4a3b_row11_col3, #T_d4a3b_row11_col6, #T_d4a3b_row12_col3, #T_d4a3b_row12_col5, #T_d4a3b_row12_col7, #T_d4a3b_row13_col3, #T_d4a3b_row13_col6, #T_d4a3b_row14_col9, #T_d4a3b_row14_col12 {\n",
       "  background-color: #3d50c3;\n",
       "  color: #f1f1f1;\n",
       "}\n",
       "#T_d4a3b_row1_col8, #T_d4a3b_row1_col10, #T_d4a3b_row8_col1, #T_d4a3b_row10_col1, #T_d4a3b_row12_col11, #T_d4a3b_row12_col13 {\n",
       "  background-color: #3f53c6;\n",
       "  color: #f1f1f1;\n",
       "}\n",
       "#T_d4a3b_row1_col14, #T_d4a3b_row3_col14, #T_d4a3b_row5_col2, #T_d4a3b_row5_col4, #T_d4a3b_row5_col8, #T_d4a3b_row5_col10, #T_d4a3b_row6_col11, #T_d4a3b_row6_col13, #T_d4a3b_row7_col2, #T_d4a3b_row7_col4, #T_d4a3b_row7_col8, #T_d4a3b_row7_col10, #T_d4a3b_row8_col14, #T_d4a3b_row10_col14, #T_d4a3b_row11_col12, #T_d4a3b_row11_col14, #T_d4a3b_row12_col0, #T_d4a3b_row12_col14, #T_d4a3b_row13_col12, #T_d4a3b_row13_col14, #T_d4a3b_row14_col1, #T_d4a3b_row14_col3, #T_d4a3b_row14_col8, #T_d4a3b_row14_col10, #T_d4a3b_row14_col11, #T_d4a3b_row14_col13 {\n",
       "  background-color: #3e51c5;\n",
       "  color: #f1f1f1;\n",
       "}\n",
       "#T_d4a3b_row9_col8, #T_d4a3b_row9_col10, #T_d4a3b_row12_col8, #T_d4a3b_row12_col10 {\n",
       "  background-color: #4257c9;\n",
       "  color: #f1f1f1;\n",
       "}\n",
       "</style>\n",
       "<table id=\"T_d4a3b\">\n",
       "  <thead>\n",
       "    <tr>\n",
       "      <th class=\"blank level0\" >&nbsp;</th>\n",
       "      <th id=\"T_d4a3b_level0_col0\" class=\"col_heading level0 col0\" >account_length</th>\n",
       "      <th id=\"T_d4a3b_level0_col1\" class=\"col_heading level0 col1\" >number_vmail_messages</th>\n",
       "      <th id=\"T_d4a3b_level0_col2\" class=\"col_heading level0 col2\" >total_day_minutes</th>\n",
       "      <th id=\"T_d4a3b_level0_col3\" class=\"col_heading level0 col3\" >total_day_calls</th>\n",
       "      <th id=\"T_d4a3b_level0_col4\" class=\"col_heading level0 col4\" >total_day_charge</th>\n",
       "      <th id=\"T_d4a3b_level0_col5\" class=\"col_heading level0 col5\" >total_eve_minutes</th>\n",
       "      <th id=\"T_d4a3b_level0_col6\" class=\"col_heading level0 col6\" >total_eve_calls</th>\n",
       "      <th id=\"T_d4a3b_level0_col7\" class=\"col_heading level0 col7\" >total_eve_charge</th>\n",
       "      <th id=\"T_d4a3b_level0_col8\" class=\"col_heading level0 col8\" >total_night_minutes</th>\n",
       "      <th id=\"T_d4a3b_level0_col9\" class=\"col_heading level0 col9\" >total_night_calls</th>\n",
       "      <th id=\"T_d4a3b_level0_col10\" class=\"col_heading level0 col10\" >total_night_charge</th>\n",
       "      <th id=\"T_d4a3b_level0_col11\" class=\"col_heading level0 col11\" >total_intl_minutes</th>\n",
       "      <th id=\"T_d4a3b_level0_col12\" class=\"col_heading level0 col12\" >total_intl_calls</th>\n",
       "      <th id=\"T_d4a3b_level0_col13\" class=\"col_heading level0 col13\" >total_intl_charge</th>\n",
       "      <th id=\"T_d4a3b_level0_col14\" class=\"col_heading level0 col14\" >number_customer_service_calls</th>\n",
       "    </tr>\n",
       "  </thead>\n",
       "  <tbody>\n",
       "    <tr>\n",
       "      <th id=\"T_d4a3b_level0_row0\" class=\"row_heading level0 row0\" >account_length</th>\n",
       "      <td id=\"T_d4a3b_row0_col0\" class=\"data row0 col0\" >1.000000</td>\n",
       "      <td id=\"T_d4a3b_row0_col1\" class=\"data row0 col1\" >0.006626</td>\n",
       "      <td id=\"T_d4a3b_row0_col2\" class=\"data row0 col2\" >0.001612</td>\n",
       "      <td id=\"T_d4a3b_row0_col3\" class=\"data row0 col3\" >0.023002</td>\n",
       "      <td id=\"T_d4a3b_row0_col4\" class=\"data row0 col4\" >0.001613</td>\n",
       "      <td id=\"T_d4a3b_row0_col5\" class=\"data row0 col5\" >0.010326</td>\n",
       "      <td id=\"T_d4a3b_row0_col6\" class=\"data row0 col6\" >0.005535</td>\n",
       "      <td id=\"T_d4a3b_row0_col7\" class=\"data row0 col7\" >0.010322</td>\n",
       "      <td id=\"T_d4a3b_row0_col8\" class=\"data row0 col8\" >0.009916</td>\n",
       "      <td id=\"T_d4a3b_row0_col9\" class=\"data row0 col9\" >0.001846</td>\n",
       "      <td id=\"T_d4a3b_row0_col10\" class=\"data row0 col10\" >0.009942</td>\n",
       "      <td id=\"T_d4a3b_row0_col11\" class=\"data row0 col11\" >0.004539</td>\n",
       "      <td id=\"T_d4a3b_row0_col12\" class=\"data row0 col12\" >0.013690</td>\n",
       "      <td id=\"T_d4a3b_row0_col13\" class=\"data row0 col13\" >0.004494</td>\n",
       "      <td id=\"T_d4a3b_row0_col14\" class=\"data row0 col14\" >0.001002</td>\n",
       "    </tr>\n",
       "    <tr>\n",
       "      <th id=\"T_d4a3b_level0_row1\" class=\"row_heading level0 row1\" >number_vmail_messages</th>\n",
       "      <td id=\"T_d4a3b_row1_col0\" class=\"data row1 col0\" >0.006626</td>\n",
       "      <td id=\"T_d4a3b_row1_col1\" class=\"data row1 col1\" >1.000000</td>\n",
       "      <td id=\"T_d4a3b_row1_col2\" class=\"data row1 col2\" >0.002000</td>\n",
       "      <td id=\"T_d4a3b_row1_col3\" class=\"data row1 col3\" >0.006920</td>\n",
       "      <td id=\"T_d4a3b_row1_col4\" class=\"data row1 col4\" >0.001994</td>\n",
       "      <td id=\"T_d4a3b_row1_col5\" class=\"data row1 col5\" >0.010725</td>\n",
       "      <td id=\"T_d4a3b_row1_col6\" class=\"data row1 col6\" >0.003593</td>\n",
       "      <td id=\"T_d4a3b_row1_col7\" class=\"data row1 col7\" >0.010736</td>\n",
       "      <td id=\"T_d4a3b_row1_col8\" class=\"data row1 col8\" >0.018308</td>\n",
       "      <td id=\"T_d4a3b_row1_col9\" class=\"data row1 col9\" >0.001977</td>\n",
       "      <td id=\"T_d4a3b_row1_col10\" class=\"data row1 col10\" >0.018300</td>\n",
       "      <td id=\"T_d4a3b_row1_col11\" class=\"data row1 col11\" >0.005220</td>\n",
       "      <td id=\"T_d4a3b_row1_col12\" class=\"data row1 col12\" >0.006585</td>\n",
       "      <td id=\"T_d4a3b_row1_col13\" class=\"data row1 col13\" >0.005249</td>\n",
       "      <td id=\"T_d4a3b_row1_col14\" class=\"data row1 col14\" >0.015303</td>\n",
       "    </tr>\n",
       "    <tr>\n",
       "      <th id=\"T_d4a3b_level0_row2\" class=\"row_heading level0 row2\" >total_day_minutes</th>\n",
       "      <td id=\"T_d4a3b_row2_col0\" class=\"data row2 col0\" >0.001612</td>\n",
       "      <td id=\"T_d4a3b_row2_col1\" class=\"data row2 col1\" >0.002000</td>\n",
       "      <td id=\"T_d4a3b_row2_col2\" class=\"data row2 col2\" >1.000000</td>\n",
       "      <td id=\"T_d4a3b_row2_col3\" class=\"data row2 col3\" >0.000747</td>\n",
       "      <td id=\"T_d4a3b_row2_col4\" class=\"data row2 col4\" >1.000000</td>\n",
       "      <td id=\"T_d4a3b_row2_col5\" class=\"data row2 col5\" >0.013248</td>\n",
       "      <td id=\"T_d4a3b_row2_col6\" class=\"data row2 col6\" >0.005986</td>\n",
       "      <td id=\"T_d4a3b_row2_col7\" class=\"data row2 col7\" >0.013258</td>\n",
       "      <td id=\"T_d4a3b_row2_col8\" class=\"data row2 col8\" >0.010049</td>\n",
       "      <td id=\"T_d4a3b_row2_col9\" class=\"data row2 col9\" >0.004812</td>\n",
       "      <td id=\"T_d4a3b_row2_col10\" class=\"data row2 col10\" >0.010036</td>\n",
       "      <td id=\"T_d4a3b_row2_col11\" class=\"data row2 col11\" >0.021369</td>\n",
       "      <td id=\"T_d4a3b_row2_col12\" class=\"data row2 col12\" >0.003859</td>\n",
       "      <td id=\"T_d4a3b_row2_col13\" class=\"data row2 col13\" >0.021291</td>\n",
       "      <td id=\"T_d4a3b_row2_col14\" class=\"data row2 col14\" >0.002925</td>\n",
       "    </tr>\n",
       "    <tr>\n",
       "      <th id=\"T_d4a3b_level0_row3\" class=\"row_heading level0 row3\" >total_day_calls</th>\n",
       "      <td id=\"T_d4a3b_row3_col0\" class=\"data row3 col0\" >0.023002</td>\n",
       "      <td id=\"T_d4a3b_row3_col1\" class=\"data row3 col1\" >0.006920</td>\n",
       "      <td id=\"T_d4a3b_row3_col2\" class=\"data row3 col2\" >0.000747</td>\n",
       "      <td id=\"T_d4a3b_row3_col3\" class=\"data row3 col3\" >1.000000</td>\n",
       "      <td id=\"T_d4a3b_row3_col4\" class=\"data row3 col4\" >0.000751</td>\n",
       "      <td id=\"T_d4a3b_row3_col5\" class=\"data row3 col5\" >0.008661</td>\n",
       "      <td id=\"T_d4a3b_row3_col6\" class=\"data row3 col6\" >0.003739</td>\n",
       "      <td id=\"T_d4a3b_row3_col7\" class=\"data row3 col7\" >0.008663</td>\n",
       "      <td id=\"T_d4a3b_row3_col8\" class=\"data row3 col8\" >0.002206</td>\n",
       "      <td id=\"T_d4a3b_row3_col9\" class=\"data row3 col9\" >0.004815</td>\n",
       "      <td id=\"T_d4a3b_row3_col10\" class=\"data row3 col10\" >0.002200</td>\n",
       "      <td id=\"T_d4a3b_row3_col11\" class=\"data row3 col11\" >0.008834</td>\n",
       "      <td id=\"T_d4a3b_row3_col12\" class=\"data row3 col12\" >0.009377</td>\n",
       "      <td id=\"T_d4a3b_row3_col13\" class=\"data row3 col13\" >0.008909</td>\n",
       "      <td id=\"T_d4a3b_row3_col14\" class=\"data row3 col14\" >0.015845</td>\n",
       "    </tr>\n",
       "    <tr>\n",
       "      <th id=\"T_d4a3b_level0_row4\" class=\"row_heading level0 row4\" >total_day_charge</th>\n",
       "      <td id=\"T_d4a3b_row4_col0\" class=\"data row4 col0\" >0.001613</td>\n",
       "      <td id=\"T_d4a3b_row4_col1\" class=\"data row4 col1\" >0.001994</td>\n",
       "      <td id=\"T_d4a3b_row4_col2\" class=\"data row4 col2\" >1.000000</td>\n",
       "      <td id=\"T_d4a3b_row4_col3\" class=\"data row4 col3\" >0.000751</td>\n",
       "      <td id=\"T_d4a3b_row4_col4\" class=\"data row4 col4\" >1.000000</td>\n",
       "      <td id=\"T_d4a3b_row4_col5\" class=\"data row4 col5\" >0.013247</td>\n",
       "      <td id=\"T_d4a3b_row4_col6\" class=\"data row4 col6\" >0.005985</td>\n",
       "      <td id=\"T_d4a3b_row4_col7\" class=\"data row4 col7\" >0.013257</td>\n",
       "      <td id=\"T_d4a3b_row4_col8\" class=\"data row4 col8\" >0.010053</td>\n",
       "      <td id=\"T_d4a3b_row4_col9\" class=\"data row4 col9\" >0.004816</td>\n",
       "      <td id=\"T_d4a3b_row4_col10\" class=\"data row4 col10\" >0.010040</td>\n",
       "      <td id=\"T_d4a3b_row4_col11\" class=\"data row4 col11\" >0.021374</td>\n",
       "      <td id=\"T_d4a3b_row4_col12\" class=\"data row4 col12\" >0.003853</td>\n",
       "      <td id=\"T_d4a3b_row4_col13\" class=\"data row4 col13\" >0.021296</td>\n",
       "      <td id=\"T_d4a3b_row4_col14\" class=\"data row4 col14\" >0.002932</td>\n",
       "    </tr>\n",
       "    <tr>\n",
       "      <th id=\"T_d4a3b_level0_row5\" class=\"row_heading level0 row5\" >total_eve_minutes</th>\n",
       "      <td id=\"T_d4a3b_row5_col0\" class=\"data row5 col0\" >0.010326</td>\n",
       "      <td id=\"T_d4a3b_row5_col1\" class=\"data row5 col1\" >0.010725</td>\n",
       "      <td id=\"T_d4a3b_row5_col2\" class=\"data row5 col2\" >0.013248</td>\n",
       "      <td id=\"T_d4a3b_row5_col3\" class=\"data row5 col3\" >0.008661</td>\n",
       "      <td id=\"T_d4a3b_row5_col4\" class=\"data row5 col4\" >0.013247</td>\n",
       "      <td id=\"T_d4a3b_row5_col5\" class=\"data row5 col5\" >1.000000</td>\n",
       "      <td id=\"T_d4a3b_row5_col6\" class=\"data row5 col6\" >0.003101</td>\n",
       "      <td id=\"T_d4a3b_row5_col7\" class=\"data row5 col7\" >1.000000</td>\n",
       "      <td id=\"T_d4a3b_row5_col8\" class=\"data row5 col8\" >0.014018</td>\n",
       "      <td id=\"T_d4a3b_row5_col9\" class=\"data row5 col9\" >0.011973</td>\n",
       "      <td id=\"T_d4a3b_row5_col10\" class=\"data row5 col10\" >0.014031</td>\n",
       "      <td id=\"T_d4a3b_row5_col11\" class=\"data row5 col11\" >0.003509</td>\n",
       "      <td id=\"T_d4a3b_row5_col12\" class=\"data row5 col12\" >0.012239</td>\n",
       "      <td id=\"T_d4a3b_row5_col13\" class=\"data row5 col13\" >0.003460</td>\n",
       "      <td id=\"T_d4a3b_row5_col14\" class=\"data row5 col14\" >0.010063</td>\n",
       "    </tr>\n",
       "    <tr>\n",
       "      <th id=\"T_d4a3b_level0_row6\" class=\"row_heading level0 row6\" >total_eve_calls</th>\n",
       "      <td id=\"T_d4a3b_row6_col0\" class=\"data row6 col0\" >0.005535</td>\n",
       "      <td id=\"T_d4a3b_row6_col1\" class=\"data row6 col1\" >0.003593</td>\n",
       "      <td id=\"T_d4a3b_row6_col2\" class=\"data row6 col2\" >0.005986</td>\n",
       "      <td id=\"T_d4a3b_row6_col3\" class=\"data row6 col3\" >0.003739</td>\n",
       "      <td id=\"T_d4a3b_row6_col4\" class=\"data row6 col4\" >0.005985</td>\n",
       "      <td id=\"T_d4a3b_row6_col5\" class=\"data row6 col5\" >0.003101</td>\n",
       "      <td id=\"T_d4a3b_row6_col6\" class=\"data row6 col6\" >1.000000</td>\n",
       "      <td id=\"T_d4a3b_row6_col7\" class=\"data row6 col7\" >0.003120</td>\n",
       "      <td id=\"T_d4a3b_row6_col8\" class=\"data row6 col8\" >0.008425</td>\n",
       "      <td id=\"T_d4a3b_row6_col9\" class=\"data row6 col9\" >0.011929</td>\n",
       "      <td id=\"T_d4a3b_row6_col10\" class=\"data row6 col10\" >0.008441</td>\n",
       "      <td id=\"T_d4a3b_row6_col11\" class=\"data row6 col11\" >0.013096</td>\n",
       "      <td id=\"T_d4a3b_row6_col12\" class=\"data row6 col12\" >0.004949</td>\n",
       "      <td id=\"T_d4a3b_row6_col13\" class=\"data row6 col13\" >0.013145</td>\n",
       "      <td id=\"T_d4a3b_row6_col14\" class=\"data row6 col14\" >0.006956</td>\n",
       "    </tr>\n",
       "    <tr>\n",
       "      <th id=\"T_d4a3b_level0_row7\" class=\"row_heading level0 row7\" >total_eve_charge</th>\n",
       "      <td id=\"T_d4a3b_row7_col0\" class=\"data row7 col0\" >0.010322</td>\n",
       "      <td id=\"T_d4a3b_row7_col1\" class=\"data row7 col1\" >0.010736</td>\n",
       "      <td id=\"T_d4a3b_row7_col2\" class=\"data row7 col2\" >0.013258</td>\n",
       "      <td id=\"T_d4a3b_row7_col3\" class=\"data row7 col3\" >0.008663</td>\n",
       "      <td id=\"T_d4a3b_row7_col4\" class=\"data row7 col4\" >0.013257</td>\n",
       "      <td id=\"T_d4a3b_row7_col5\" class=\"data row7 col5\" >1.000000</td>\n",
       "      <td id=\"T_d4a3b_row7_col6\" class=\"data row7 col6\" >0.003120</td>\n",
       "      <td id=\"T_d4a3b_row7_col7\" class=\"data row7 col7\" >1.000000</td>\n",
       "      <td id=\"T_d4a3b_row7_col8\" class=\"data row7 col8\" >0.014022</td>\n",
       "      <td id=\"T_d4a3b_row7_col9\" class=\"data row7 col9\" >0.011971</td>\n",
       "      <td id=\"T_d4a3b_row7_col10\" class=\"data row7 col10\" >0.014035</td>\n",
       "      <td id=\"T_d4a3b_row7_col11\" class=\"data row7 col11\" >0.003512</td>\n",
       "      <td id=\"T_d4a3b_row7_col12\" class=\"data row7 col12\" >0.012239</td>\n",
       "      <td id=\"T_d4a3b_row7_col13\" class=\"data row7 col13\" >0.003463</td>\n",
       "      <td id=\"T_d4a3b_row7_col14\" class=\"data row7 col14\" >0.010071</td>\n",
       "    </tr>\n",
       "    <tr>\n",
       "      <th id=\"T_d4a3b_level0_row8\" class=\"row_heading level0 row8\" >total_night_minutes</th>\n",
       "      <td id=\"T_d4a3b_row8_col0\" class=\"data row8 col0\" >0.009916</td>\n",
       "      <td id=\"T_d4a3b_row8_col1\" class=\"data row8 col1\" >0.018308</td>\n",
       "      <td id=\"T_d4a3b_row8_col2\" class=\"data row8 col2\" >0.010049</td>\n",
       "      <td id=\"T_d4a3b_row8_col3\" class=\"data row8 col3\" >0.002206</td>\n",
       "      <td id=\"T_d4a3b_row8_col4\" class=\"data row8 col4\" >0.010053</td>\n",
       "      <td id=\"T_d4a3b_row8_col5\" class=\"data row8 col5\" >0.014018</td>\n",
       "      <td id=\"T_d4a3b_row8_col6\" class=\"data row8 col6\" >0.008425</td>\n",
       "      <td id=\"T_d4a3b_row8_col7\" class=\"data row8 col7\" >0.014022</td>\n",
       "      <td id=\"T_d4a3b_row8_col8\" class=\"data row8 col8\" >1.000000</td>\n",
       "      <td id=\"T_d4a3b_row8_col9\" class=\"data row8 col9\" >0.023815</td>\n",
       "      <td id=\"T_d4a3b_row8_col10\" class=\"data row8 col10\" >0.999999</td>\n",
       "      <td id=\"T_d4a3b_row8_col11\" class=\"data row8 col11\" >0.000113</td>\n",
       "      <td id=\"T_d4a3b_row8_col12\" class=\"data row8 col12\" >0.024280</td>\n",
       "      <td id=\"T_d4a3b_row8_col13\" class=\"data row8 col13\" >0.000047</td>\n",
       "      <td id=\"T_d4a3b_row8_col14\" class=\"data row8 col14\" >0.013771</td>\n",
       "    </tr>\n",
       "    <tr>\n",
       "      <th id=\"T_d4a3b_level0_row9\" class=\"row_heading level0 row9\" >total_night_calls</th>\n",
       "      <td id=\"T_d4a3b_row9_col0\" class=\"data row9 col0\" >0.001846</td>\n",
       "      <td id=\"T_d4a3b_row9_col1\" class=\"data row9 col1\" >0.001977</td>\n",
       "      <td id=\"T_d4a3b_row9_col2\" class=\"data row9 col2\" >0.004812</td>\n",
       "      <td id=\"T_d4a3b_row9_col3\" class=\"data row9 col3\" >0.004815</td>\n",
       "      <td id=\"T_d4a3b_row9_col4\" class=\"data row9 col4\" >0.004816</td>\n",
       "      <td id=\"T_d4a3b_row9_col5\" class=\"data row9 col5\" >0.011973</td>\n",
       "      <td id=\"T_d4a3b_row9_col6\" class=\"data row9 col6\" >0.011929</td>\n",
       "      <td id=\"T_d4a3b_row9_col7\" class=\"data row9 col7\" >0.011971</td>\n",
       "      <td id=\"T_d4a3b_row9_col8\" class=\"data row9 col8\" >0.023815</td>\n",
       "      <td id=\"T_d4a3b_row9_col9\" class=\"data row9 col9\" >1.000000</td>\n",
       "      <td id=\"T_d4a3b_row9_col10\" class=\"data row9 col10\" >0.023798</td>\n",
       "      <td id=\"T_d4a3b_row9_col11\" class=\"data row9 col11\" >0.001093</td>\n",
       "      <td id=\"T_d4a3b_row9_col12\" class=\"data row9 col12\" >0.003851</td>\n",
       "      <td id=\"T_d4a3b_row9_col13\" class=\"data row9 col13\" >0.001054</td>\n",
       "      <td id=\"T_d4a3b_row9_col14\" class=\"data row9 col14\" >0.008893</td>\n",
       "    </tr>\n",
       "    <tr>\n",
       "      <th id=\"T_d4a3b_level0_row10\" class=\"row_heading level0 row10\" >total_night_charge</th>\n",
       "      <td id=\"T_d4a3b_row10_col0\" class=\"data row10 col0\" >0.009942</td>\n",
       "      <td id=\"T_d4a3b_row10_col1\" class=\"data row10 col1\" >0.018300</td>\n",
       "      <td id=\"T_d4a3b_row10_col2\" class=\"data row10 col2\" >0.010036</td>\n",
       "      <td id=\"T_d4a3b_row10_col3\" class=\"data row10 col3\" >0.002200</td>\n",
       "      <td id=\"T_d4a3b_row10_col4\" class=\"data row10 col4\" >0.010040</td>\n",
       "      <td id=\"T_d4a3b_row10_col5\" class=\"data row10 col5\" >0.014031</td>\n",
       "      <td id=\"T_d4a3b_row10_col6\" class=\"data row10 col6\" >0.008441</td>\n",
       "      <td id=\"T_d4a3b_row10_col7\" class=\"data row10 col7\" >0.014035</td>\n",
       "      <td id=\"T_d4a3b_row10_col8\" class=\"data row10 col8\" >0.999999</td>\n",
       "      <td id=\"T_d4a3b_row10_col9\" class=\"data row10 col9\" >0.023798</td>\n",
       "      <td id=\"T_d4a3b_row10_col10\" class=\"data row10 col10\" >1.000000</td>\n",
       "      <td id=\"T_d4a3b_row10_col11\" class=\"data row10 col11\" >0.000103</td>\n",
       "      <td id=\"T_d4a3b_row10_col12\" class=\"data row10 col12\" >0.024260</td>\n",
       "      <td id=\"T_d4a3b_row10_col13\" class=\"data row10 col13\" >0.000037</td>\n",
       "      <td id=\"T_d4a3b_row10_col14\" class=\"data row10 col14\" >0.013761</td>\n",
       "    </tr>\n",
       "    <tr>\n",
       "      <th id=\"T_d4a3b_level0_row11\" class=\"row_heading level0 row11\" >total_intl_minutes</th>\n",
       "      <td id=\"T_d4a3b_row11_col0\" class=\"data row11 col0\" >0.004539</td>\n",
       "      <td id=\"T_d4a3b_row11_col1\" class=\"data row11 col1\" >0.005220</td>\n",
       "      <td id=\"T_d4a3b_row11_col2\" class=\"data row11 col2\" >0.021369</td>\n",
       "      <td id=\"T_d4a3b_row11_col3\" class=\"data row11 col3\" >0.008834</td>\n",
       "      <td id=\"T_d4a3b_row11_col4\" class=\"data row11 col4\" >0.021374</td>\n",
       "      <td id=\"T_d4a3b_row11_col5\" class=\"data row11 col5\" >0.003509</td>\n",
       "      <td id=\"T_d4a3b_row11_col6\" class=\"data row11 col6\" >0.013096</td>\n",
       "      <td id=\"T_d4a3b_row11_col7\" class=\"data row11 col7\" >0.003512</td>\n",
       "      <td id=\"T_d4a3b_row11_col8\" class=\"data row11 col8\" >0.000113</td>\n",
       "      <td id=\"T_d4a3b_row11_col9\" class=\"data row11 col9\" >0.001093</td>\n",
       "      <td id=\"T_d4a3b_row11_col10\" class=\"data row11 col10\" >0.000103</td>\n",
       "      <td id=\"T_d4a3b_row11_col11\" class=\"data row11 col11\" >1.000000</td>\n",
       "      <td id=\"T_d4a3b_row11_col12\" class=\"data row11 col12\" >0.019328</td>\n",
       "      <td id=\"T_d4a3b_row11_col13\" class=\"data row11 col13\" >0.999993</td>\n",
       "      <td id=\"T_d4a3b_row11_col14\" class=\"data row11 col14\" >0.013994</td>\n",
       "    </tr>\n",
       "    <tr>\n",
       "      <th id=\"T_d4a3b_level0_row12\" class=\"row_heading level0 row12\" >total_intl_calls</th>\n",
       "      <td id=\"T_d4a3b_row12_col0\" class=\"data row12 col0\" >0.013690</td>\n",
       "      <td id=\"T_d4a3b_row12_col1\" class=\"data row12 col1\" >0.006585</td>\n",
       "      <td id=\"T_d4a3b_row12_col2\" class=\"data row12 col2\" >0.003859</td>\n",
       "      <td id=\"T_d4a3b_row12_col3\" class=\"data row12 col3\" >0.009377</td>\n",
       "      <td id=\"T_d4a3b_row12_col4\" class=\"data row12 col4\" >0.003853</td>\n",
       "      <td id=\"T_d4a3b_row12_col5\" class=\"data row12 col5\" >0.012239</td>\n",
       "      <td id=\"T_d4a3b_row12_col6\" class=\"data row12 col6\" >0.004949</td>\n",
       "      <td id=\"T_d4a3b_row12_col7\" class=\"data row12 col7\" >0.012239</td>\n",
       "      <td id=\"T_d4a3b_row12_col8\" class=\"data row12 col8\" >0.024280</td>\n",
       "      <td id=\"T_d4a3b_row12_col9\" class=\"data row12 col9\" >0.003851</td>\n",
       "      <td id=\"T_d4a3b_row12_col10\" class=\"data row12 col10\" >0.024260</td>\n",
       "      <td id=\"T_d4a3b_row12_col11\" class=\"data row12 col11\" >0.019328</td>\n",
       "      <td id=\"T_d4a3b_row12_col12\" class=\"data row12 col12\" >1.000000</td>\n",
       "      <td id=\"T_d4a3b_row12_col13\" class=\"data row12 col13\" >0.019414</td>\n",
       "      <td id=\"T_d4a3b_row12_col14\" class=\"data row12 col14\" >0.015302</td>\n",
       "    </tr>\n",
       "    <tr>\n",
       "      <th id=\"T_d4a3b_level0_row13\" class=\"row_heading level0 row13\" >total_intl_charge</th>\n",
       "      <td id=\"T_d4a3b_row13_col0\" class=\"data row13 col0\" >0.004494</td>\n",
       "      <td id=\"T_d4a3b_row13_col1\" class=\"data row13 col1\" >0.005249</td>\n",
       "      <td id=\"T_d4a3b_row13_col2\" class=\"data row13 col2\" >0.021291</td>\n",
       "      <td id=\"T_d4a3b_row13_col3\" class=\"data row13 col3\" >0.008909</td>\n",
       "      <td id=\"T_d4a3b_row13_col4\" class=\"data row13 col4\" >0.021296</td>\n",
       "      <td id=\"T_d4a3b_row13_col5\" class=\"data row13 col5\" >0.003460</td>\n",
       "      <td id=\"T_d4a3b_row13_col6\" class=\"data row13 col6\" >0.013145</td>\n",
       "      <td id=\"T_d4a3b_row13_col7\" class=\"data row13 col7\" >0.003463</td>\n",
       "      <td id=\"T_d4a3b_row13_col8\" class=\"data row13 col8\" >0.000047</td>\n",
       "      <td id=\"T_d4a3b_row13_col9\" class=\"data row13 col9\" >0.001054</td>\n",
       "      <td id=\"T_d4a3b_row13_col10\" class=\"data row13 col10\" >0.000037</td>\n",
       "      <td id=\"T_d4a3b_row13_col11\" class=\"data row13 col11\" >0.999993</td>\n",
       "      <td id=\"T_d4a3b_row13_col12\" class=\"data row13 col12\" >0.019414</td>\n",
       "      <td id=\"T_d4a3b_row13_col13\" class=\"data row13 col13\" >1.000000</td>\n",
       "      <td id=\"T_d4a3b_row13_col14\" class=\"data row13 col14\" >0.014051</td>\n",
       "    </tr>\n",
       "    <tr>\n",
       "      <th id=\"T_d4a3b_level0_row14\" class=\"row_heading level0 row14\" >number_customer_service_calls</th>\n",
       "      <td id=\"T_d4a3b_row14_col0\" class=\"data row14 col0\" >0.001002</td>\n",
       "      <td id=\"T_d4a3b_row14_col1\" class=\"data row14 col1\" >0.015303</td>\n",
       "      <td id=\"T_d4a3b_row14_col2\" class=\"data row14 col2\" >0.002925</td>\n",
       "      <td id=\"T_d4a3b_row14_col3\" class=\"data row14 col3\" >0.015845</td>\n",
       "      <td id=\"T_d4a3b_row14_col4\" class=\"data row14 col4\" >0.002932</td>\n",
       "      <td id=\"T_d4a3b_row14_col5\" class=\"data row14 col5\" >0.010063</td>\n",
       "      <td id=\"T_d4a3b_row14_col6\" class=\"data row14 col6\" >0.006956</td>\n",
       "      <td id=\"T_d4a3b_row14_col7\" class=\"data row14 col7\" >0.010071</td>\n",
       "      <td id=\"T_d4a3b_row14_col8\" class=\"data row14 col8\" >0.013771</td>\n",
       "      <td id=\"T_d4a3b_row14_col9\" class=\"data row14 col9\" >0.008893</td>\n",
       "      <td id=\"T_d4a3b_row14_col10\" class=\"data row14 col10\" >0.013761</td>\n",
       "      <td id=\"T_d4a3b_row14_col11\" class=\"data row14 col11\" >0.013994</td>\n",
       "      <td id=\"T_d4a3b_row14_col12\" class=\"data row14 col12\" >0.015302</td>\n",
       "      <td id=\"T_d4a3b_row14_col13\" class=\"data row14 col13\" >0.014051</td>\n",
       "      <td id=\"T_d4a3b_row14_col14\" class=\"data row14 col14\" >1.000000</td>\n",
       "    </tr>\n",
       "  </tbody>\n",
       "</table>\n"
      ],
      "text/plain": [
       "<pandas.io.formats.style.Styler at 0x155dd63ba00>"
      ]
     },
     "execution_count": 8,
     "metadata": {},
     "output_type": "execute_result"
    }
   ],
   "source": [
    "confusion=train.corr().abs()\n",
    "confusion.style.background_gradient(cmap='coolwarm')"
   ]
  },
  {
   "cell_type": "code",
   "execution_count": 9,
   "id": "4dbcd284",
   "metadata": {},
   "outputs": [],
   "source": [
    "columns=['state','account_length','area_code','international_plan','voice_mail_plan','churn']\n",
    "def encoding(data,cols):\n",
    "    encoder=LabelEncoder()\n",
    "    for col in cols:\n",
    "        data[col]=encoder.fit_transform(data[col])\n",
    "encoding(train,columns)\n",
    "encoding(test,columns[:-1])"
   ]
  },
  {
   "cell_type": "code",
   "execution_count": 10,
   "id": "db26a70e",
   "metadata": {},
   "outputs": [
    {
     "data": {
      "text/plain": [
       "churn                            1.000000\n",
       "international_plan               0.259053\n",
       "number_customer_service_calls    0.221220\n",
       "total_day_minutes                0.215272\n",
       "total_day_charge                 0.215263\n",
       "voice_mail_plan                  0.114643\n",
       "number_vmail_messages            0.100347\n",
       "total_eve_minutes                0.078855\n",
       "total_eve_charge                 0.078852\n",
       "total_intl_minutes               0.055186\n",
       "total_intl_charge                0.055177\n",
       "total_night_minutes              0.046647\n",
       "total_night_charge               0.046641\n",
       "total_intl_calls                 0.034334\n",
       "account_length                   0.019100\n",
       "total_night_calls                0.012699\n",
       "total_day_calls                  0.011640\n",
       "area_code                        0.010696\n",
       "state                            0.007181\n",
       "total_eve_calls                  0.006817\n",
       "dtype: float64"
      ]
     },
     "execution_count": 10,
     "metadata": {},
     "output_type": "execute_result"
    }
   ],
   "source": [
    "train.corrwith(train.churn).abs().sort_values(ascending=False)"
   ]
  },
  {
   "cell_type": "code",
   "execution_count": 11,
   "id": "ec10ed5c",
   "metadata": {},
   "outputs": [],
   "source": [
    "train_X=train.drop('churn',axis=1).values\n",
    "train_y=train['churn'].values\n",
    "test_X=test.values"
   ]
  },
  {
   "cell_type": "code",
   "execution_count": 12,
   "id": "3cc9bf8e",
   "metadata": {},
   "outputs": [],
   "source": [
    "def get_param(x,y,model,hyper):\n",
    "    params={hyper:np.arange(1,25)}\n",
    "    gsCV=GridSearchCV(model,params,cv=5)\n",
    "    gsCV.fit(x,y)\n",
    "    return gsCV.best_params_"
   ]
  },
  {
   "cell_type": "code",
   "execution_count": 13,
   "id": "ef401dec",
   "metadata": {},
   "outputs": [
    {
     "name": "stderr",
     "output_type": "stream",
     "text": [
      "D:\\Anaconda\\lib\\site-packages\\sklearn\\neighbors\\_classification.py:228: FutureWarning: Unlike other reduction functions (e.g. `skew`, `kurtosis`), the default behavior of `mode` typically preserves the axis it acts along. In SciPy 1.11.0, this behavior will change: the default value of `keepdims` will become False, the `axis` over which the statistic is taken will be eliminated, and the value None will no longer be accepted. Set `keepdims` to True or False to avoid this warning.\n",
      "  mode, _ = stats.mode(_y[neigh_ind, k], axis=1)\n"
     ]
    }
   ],
   "source": [
    "knn=KNeighborsClassifier(n_neighbors=6)\n",
    "knn.fit(train_X,train_y)\n",
    "predict_knn=knn.predict(test_X)"
   ]
  },
  {
   "cell_type": "code",
   "execution_count": 21,
   "id": "2582f876",
   "metadata": {},
   "outputs": [],
   "source": [
    "X=train.drop('churn',axis=1).values\n",
    "y=train['churn'].values"
   ]
  },
  {
   "cell_type": "markdown",
   "id": "86d030e3",
   "metadata": {},
   "source": [
    "## Checking"
   ]
  },
  {
   "cell_type": "markdown",
   "id": "c0d16e17",
   "metadata": {},
   "source": [
    "Before training and testing original data, I prefer to do it for only train data"
   ]
  },
  {
   "cell_type": "code",
   "execution_count": 22,
   "id": "64987ca4",
   "metadata": {},
   "outputs": [
    {
     "data": {
      "text/plain": [
       "((3400, 19), (850, 19))"
      ]
     },
     "execution_count": 22,
     "metadata": {},
     "output_type": "execute_result"
    }
   ],
   "source": [
    "X_train,X_test,y_train,y_test=train_test_split(X,y,test_size=0.2,random_state=42)\n",
    "X_train.shape,X_test.shape"
   ]
  },
  {
   "cell_type": "markdown",
   "id": "f9fbb9e3",
   "metadata": {},
   "source": [
    "I use some classification models to find which model predict accurately"
   ]
  },
  {
   "cell_type": "markdown",
   "id": "0ca83c28",
   "metadata": {},
   "source": [
    "#### KNeighborsClassifier()"
   ]
  },
  {
   "cell_type": "code",
   "execution_count": 23,
   "id": "6cb88b3f",
   "metadata": {},
   "outputs": [
    {
     "name": "stderr",
     "output_type": "stream",
     "text": [
      "D:\\Anaconda\\lib\\site-packages\\sklearn\\neighbors\\_classification.py:228: FutureWarning: Unlike other reduction functions (e.g. `skew`, `kurtosis`), the default behavior of `mode` typically preserves the axis it acts along. In SciPy 1.11.0, this behavior will change: the default value of `keepdims` will become False, the `axis` over which the statistic is taken will be eliminated, and the value None will no longer be accepted. Set `keepdims` to True or False to avoid this warning.\n",
      "  mode, _ = stats.mode(_y[neigh_ind, k], axis=1)\n"
     ]
    },
    {
     "data": {
      "text/plain": [
       "0.8870588235294118"
      ]
     },
     "execution_count": 23,
     "metadata": {},
     "output_type": "execute_result"
    }
   ],
   "source": [
    "knn_model=KNeighborsClassifier(n_neighbors=9)\n",
    "knn_model.fit(X_train,y_train)\n",
    "predict_knn=knn_model.predict(X_test)\n",
    "knn_accuracy=accuracy_score(y_test,predict_knn)\n",
    "knn_accuracy"
   ]
  },
  {
   "cell_type": "code",
   "execution_count": 24,
   "id": "08b8ce2c",
   "metadata": {},
   "outputs": [
    {
     "name": "stderr",
     "output_type": "stream",
     "text": [
      "D:\\Anaconda\\lib\\site-packages\\sklearn\\neighbors\\_classification.py:228: FutureWarning: Unlike other reduction functions (e.g. `skew`, `kurtosis`), the default behavior of `mode` typically preserves the axis it acts along. In SciPy 1.11.0, this behavior will change: the default value of `keepdims` will become False, the `axis` over which the statistic is taken will be eliminated, and the value None will no longer be accepted. Set `keepdims` to True or False to avoid this warning.\n",
      "  mode, _ = stats.mode(_y[neigh_ind, k], axis=1)\n",
      "D:\\Anaconda\\lib\\site-packages\\sklearn\\neighbors\\_classification.py:228: FutureWarning: Unlike other reduction functions (e.g. `skew`, `kurtosis`), the default behavior of `mode` typically preserves the axis it acts along. In SciPy 1.11.0, this behavior will change: the default value of `keepdims` will become False, the `axis` over which the statistic is taken will be eliminated, and the value None will no longer be accepted. Set `keepdims` to True or False to avoid this warning.\n",
      "  mode, _ = stats.mode(_y[neigh_ind, k], axis=1)\n",
      "D:\\Anaconda\\lib\\site-packages\\sklearn\\neighbors\\_classification.py:228: FutureWarning: Unlike other reduction functions (e.g. `skew`, `kurtosis`), the default behavior of `mode` typically preserves the axis it acts along. In SciPy 1.11.0, this behavior will change: the default value of `keepdims` will become False, the `axis` over which the statistic is taken will be eliminated, and the value None will no longer be accepted. Set `keepdims` to True or False to avoid this warning.\n",
      "  mode, _ = stats.mode(_y[neigh_ind, k], axis=1)\n",
      "D:\\Anaconda\\lib\\site-packages\\sklearn\\neighbors\\_classification.py:228: FutureWarning: Unlike other reduction functions (e.g. `skew`, `kurtosis`), the default behavior of `mode` typically preserves the axis it acts along. In SciPy 1.11.0, this behavior will change: the default value of `keepdims` will become False, the `axis` over which the statistic is taken will be eliminated, and the value None will no longer be accepted. Set `keepdims` to True or False to avoid this warning.\n",
      "  mode, _ = stats.mode(_y[neigh_ind, k], axis=1)\n",
      "D:\\Anaconda\\lib\\site-packages\\sklearn\\neighbors\\_classification.py:228: FutureWarning: Unlike other reduction functions (e.g. `skew`, `kurtosis`), the default behavior of `mode` typically preserves the axis it acts along. In SciPy 1.11.0, this behavior will change: the default value of `keepdims` will become False, the `axis` over which the statistic is taken will be eliminated, and the value None will no longer be accepted. Set `keepdims` to True or False to avoid this warning.\n",
      "  mode, _ = stats.mode(_y[neigh_ind, k], axis=1)\n",
      "D:\\Anaconda\\lib\\site-packages\\sklearn\\neighbors\\_classification.py:228: FutureWarning: Unlike other reduction functions (e.g. `skew`, `kurtosis`), the default behavior of `mode` typically preserves the axis it acts along. In SciPy 1.11.0, this behavior will change: the default value of `keepdims` will become False, the `axis` over which the statistic is taken will be eliminated, and the value None will no longer be accepted. Set `keepdims` to True or False to avoid this warning.\n",
      "  mode, _ = stats.mode(_y[neigh_ind, k], axis=1)\n",
      "D:\\Anaconda\\lib\\site-packages\\sklearn\\neighbors\\_classification.py:228: FutureWarning: Unlike other reduction functions (e.g. `skew`, `kurtosis`), the default behavior of `mode` typically preserves the axis it acts along. In SciPy 1.11.0, this behavior will change: the default value of `keepdims` will become False, the `axis` over which the statistic is taken will be eliminated, and the value None will no longer be accepted. Set `keepdims` to True or False to avoid this warning.\n",
      "  mode, _ = stats.mode(_y[neigh_ind, k], axis=1)\n",
      "D:\\Anaconda\\lib\\site-packages\\sklearn\\neighbors\\_classification.py:228: FutureWarning: Unlike other reduction functions (e.g. `skew`, `kurtosis`), the default behavior of `mode` typically preserves the axis it acts along. In SciPy 1.11.0, this behavior will change: the default value of `keepdims` will become False, the `axis` over which the statistic is taken will be eliminated, and the value None will no longer be accepted. Set `keepdims` to True or False to avoid this warning.\n",
      "  mode, _ = stats.mode(_y[neigh_ind, k], axis=1)\n",
      "D:\\Anaconda\\lib\\site-packages\\sklearn\\neighbors\\_classification.py:228: FutureWarning: Unlike other reduction functions (e.g. `skew`, `kurtosis`), the default behavior of `mode` typically preserves the axis it acts along. In SciPy 1.11.0, this behavior will change: the default value of `keepdims` will become False, the `axis` over which the statistic is taken will be eliminated, and the value None will no longer be accepted. Set `keepdims` to True or False to avoid this warning.\n",
      "  mode, _ = stats.mode(_y[neigh_ind, k], axis=1)\n",
      "D:\\Anaconda\\lib\\site-packages\\sklearn\\neighbors\\_classification.py:228: FutureWarning: Unlike other reduction functions (e.g. `skew`, `kurtosis`), the default behavior of `mode` typically preserves the axis it acts along. In SciPy 1.11.0, this behavior will change: the default value of `keepdims` will become False, the `axis` over which the statistic is taken will be eliminated, and the value None will no longer be accepted. Set `keepdims` to True or False to avoid this warning.\n",
      "  mode, _ = stats.mode(_y[neigh_ind, k], axis=1)\n",
      "D:\\Anaconda\\lib\\site-packages\\sklearn\\neighbors\\_classification.py:228: FutureWarning: Unlike other reduction functions (e.g. `skew`, `kurtosis`), the default behavior of `mode` typically preserves the axis it acts along. In SciPy 1.11.0, this behavior will change: the default value of `keepdims` will become False, the `axis` over which the statistic is taken will be eliminated, and the value None will no longer be accepted. Set `keepdims` to True or False to avoid this warning.\n",
      "  mode, _ = stats.mode(_y[neigh_ind, k], axis=1)\n",
      "D:\\Anaconda\\lib\\site-packages\\sklearn\\neighbors\\_classification.py:228: FutureWarning: Unlike other reduction functions (e.g. `skew`, `kurtosis`), the default behavior of `mode` typically preserves the axis it acts along. In SciPy 1.11.0, this behavior will change: the default value of `keepdims` will become False, the `axis` over which the statistic is taken will be eliminated, and the value None will no longer be accepted. Set `keepdims` to True or False to avoid this warning.\n",
      "  mode, _ = stats.mode(_y[neigh_ind, k], axis=1)\n",
      "D:\\Anaconda\\lib\\site-packages\\sklearn\\neighbors\\_classification.py:228: FutureWarning: Unlike other reduction functions (e.g. `skew`, `kurtosis`), the default behavior of `mode` typically preserves the axis it acts along. In SciPy 1.11.0, this behavior will change: the default value of `keepdims` will become False, the `axis` over which the statistic is taken will be eliminated, and the value None will no longer be accepted. Set `keepdims` to True or False to avoid this warning.\n",
      "  mode, _ = stats.mode(_y[neigh_ind, k], axis=1)\n",
      "D:\\Anaconda\\lib\\site-packages\\sklearn\\neighbors\\_classification.py:228: FutureWarning: Unlike other reduction functions (e.g. `skew`, `kurtosis`), the default behavior of `mode` typically preserves the axis it acts along. In SciPy 1.11.0, this behavior will change: the default value of `keepdims` will become False, the `axis` over which the statistic is taken will be eliminated, and the value None will no longer be accepted. Set `keepdims` to True or False to avoid this warning.\n",
      "  mode, _ = stats.mode(_y[neigh_ind, k], axis=1)\n",
      "D:\\Anaconda\\lib\\site-packages\\sklearn\\neighbors\\_classification.py:228: FutureWarning: Unlike other reduction functions (e.g. `skew`, `kurtosis`), the default behavior of `mode` typically preserves the axis it acts along. In SciPy 1.11.0, this behavior will change: the default value of `keepdims` will become False, the `axis` over which the statistic is taken will be eliminated, and the value None will no longer be accepted. Set `keepdims` to True or False to avoid this warning.\n",
      "  mode, _ = stats.mode(_y[neigh_ind, k], axis=1)\n",
      "D:\\Anaconda\\lib\\site-packages\\sklearn\\neighbors\\_classification.py:228: FutureWarning: Unlike other reduction functions (e.g. `skew`, `kurtosis`), the default behavior of `mode` typically preserves the axis it acts along. In SciPy 1.11.0, this behavior will change: the default value of `keepdims` will become False, the `axis` over which the statistic is taken will be eliminated, and the value None will no longer be accepted. Set `keepdims` to True or False to avoid this warning.\n",
      "  mode, _ = stats.mode(_y[neigh_ind, k], axis=1)\n"
     ]
    },
    {
     "name": "stderr",
     "output_type": "stream",
     "text": [
      "D:\\Anaconda\\lib\\site-packages\\sklearn\\neighbors\\_classification.py:228: FutureWarning: Unlike other reduction functions (e.g. `skew`, `kurtosis`), the default behavior of `mode` typically preserves the axis it acts along. In SciPy 1.11.0, this behavior will change: the default value of `keepdims` will become False, the `axis` over which the statistic is taken will be eliminated, and the value None will no longer be accepted. Set `keepdims` to True or False to avoid this warning.\n",
      "  mode, _ = stats.mode(_y[neigh_ind, k], axis=1)\n",
      "D:\\Anaconda\\lib\\site-packages\\sklearn\\neighbors\\_classification.py:228: FutureWarning: Unlike other reduction functions (e.g. `skew`, `kurtosis`), the default behavior of `mode` typically preserves the axis it acts along. In SciPy 1.11.0, this behavior will change: the default value of `keepdims` will become False, the `axis` over which the statistic is taken will be eliminated, and the value None will no longer be accepted. Set `keepdims` to True or False to avoid this warning.\n",
      "  mode, _ = stats.mode(_y[neigh_ind, k], axis=1)\n",
      "D:\\Anaconda\\lib\\site-packages\\sklearn\\neighbors\\_classification.py:228: FutureWarning: Unlike other reduction functions (e.g. `skew`, `kurtosis`), the default behavior of `mode` typically preserves the axis it acts along. In SciPy 1.11.0, this behavior will change: the default value of `keepdims` will become False, the `axis` over which the statistic is taken will be eliminated, and the value None will no longer be accepted. Set `keepdims` to True or False to avoid this warning.\n",
      "  mode, _ = stats.mode(_y[neigh_ind, k], axis=1)\n",
      "D:\\Anaconda\\lib\\site-packages\\sklearn\\neighbors\\_classification.py:228: FutureWarning: Unlike other reduction functions (e.g. `skew`, `kurtosis`), the default behavior of `mode` typically preserves the axis it acts along. In SciPy 1.11.0, this behavior will change: the default value of `keepdims` will become False, the `axis` over which the statistic is taken will be eliminated, and the value None will no longer be accepted. Set `keepdims` to True or False to avoid this warning.\n",
      "  mode, _ = stats.mode(_y[neigh_ind, k], axis=1)\n",
      "D:\\Anaconda\\lib\\site-packages\\sklearn\\neighbors\\_classification.py:228: FutureWarning: Unlike other reduction functions (e.g. `skew`, `kurtosis`), the default behavior of `mode` typically preserves the axis it acts along. In SciPy 1.11.0, this behavior will change: the default value of `keepdims` will become False, the `axis` over which the statistic is taken will be eliminated, and the value None will no longer be accepted. Set `keepdims` to True or False to avoid this warning.\n",
      "  mode, _ = stats.mode(_y[neigh_ind, k], axis=1)\n",
      "D:\\Anaconda\\lib\\site-packages\\sklearn\\neighbors\\_classification.py:228: FutureWarning: Unlike other reduction functions (e.g. `skew`, `kurtosis`), the default behavior of `mode` typically preserves the axis it acts along. In SciPy 1.11.0, this behavior will change: the default value of `keepdims` will become False, the `axis` over which the statistic is taken will be eliminated, and the value None will no longer be accepted. Set `keepdims` to True or False to avoid this warning.\n",
      "  mode, _ = stats.mode(_y[neigh_ind, k], axis=1)\n",
      "D:\\Anaconda\\lib\\site-packages\\sklearn\\neighbors\\_classification.py:228: FutureWarning: Unlike other reduction functions (e.g. `skew`, `kurtosis`), the default behavior of `mode` typically preserves the axis it acts along. In SciPy 1.11.0, this behavior will change: the default value of `keepdims` will become False, the `axis` over which the statistic is taken will be eliminated, and the value None will no longer be accepted. Set `keepdims` to True or False to avoid this warning.\n",
      "  mode, _ = stats.mode(_y[neigh_ind, k], axis=1)\n",
      "D:\\Anaconda\\lib\\site-packages\\sklearn\\neighbors\\_classification.py:228: FutureWarning: Unlike other reduction functions (e.g. `skew`, `kurtosis`), the default behavior of `mode` typically preserves the axis it acts along. In SciPy 1.11.0, this behavior will change: the default value of `keepdims` will become False, the `axis` over which the statistic is taken will be eliminated, and the value None will no longer be accepted. Set `keepdims` to True or False to avoid this warning.\n",
      "  mode, _ = stats.mode(_y[neigh_ind, k], axis=1)\n",
      "D:\\Anaconda\\lib\\site-packages\\sklearn\\neighbors\\_classification.py:228: FutureWarning: Unlike other reduction functions (e.g. `skew`, `kurtosis`), the default behavior of `mode` typically preserves the axis it acts along. In SciPy 1.11.0, this behavior will change: the default value of `keepdims` will become False, the `axis` over which the statistic is taken will be eliminated, and the value None will no longer be accepted. Set `keepdims` to True or False to avoid this warning.\n",
      "  mode, _ = stats.mode(_y[neigh_ind, k], axis=1)\n",
      "D:\\Anaconda\\lib\\site-packages\\sklearn\\neighbors\\_classification.py:228: FutureWarning: Unlike other reduction functions (e.g. `skew`, `kurtosis`), the default behavior of `mode` typically preserves the axis it acts along. In SciPy 1.11.0, this behavior will change: the default value of `keepdims` will become False, the `axis` over which the statistic is taken will be eliminated, and the value None will no longer be accepted. Set `keepdims` to True or False to avoid this warning.\n",
      "  mode, _ = stats.mode(_y[neigh_ind, k], axis=1)\n",
      "D:\\Anaconda\\lib\\site-packages\\sklearn\\neighbors\\_classification.py:228: FutureWarning: Unlike other reduction functions (e.g. `skew`, `kurtosis`), the default behavior of `mode` typically preserves the axis it acts along. In SciPy 1.11.0, this behavior will change: the default value of `keepdims` will become False, the `axis` over which the statistic is taken will be eliminated, and the value None will no longer be accepted. Set `keepdims` to True or False to avoid this warning.\n",
      "  mode, _ = stats.mode(_y[neigh_ind, k], axis=1)\n",
      "D:\\Anaconda\\lib\\site-packages\\sklearn\\neighbors\\_classification.py:228: FutureWarning: Unlike other reduction functions (e.g. `skew`, `kurtosis`), the default behavior of `mode` typically preserves the axis it acts along. In SciPy 1.11.0, this behavior will change: the default value of `keepdims` will become False, the `axis` over which the statistic is taken will be eliminated, and the value None will no longer be accepted. Set `keepdims` to True or False to avoid this warning.\n",
      "  mode, _ = stats.mode(_y[neigh_ind, k], axis=1)\n",
      "D:\\Anaconda\\lib\\site-packages\\sklearn\\neighbors\\_classification.py:228: FutureWarning: Unlike other reduction functions (e.g. `skew`, `kurtosis`), the default behavior of `mode` typically preserves the axis it acts along. In SciPy 1.11.0, this behavior will change: the default value of `keepdims` will become False, the `axis` over which the statistic is taken will be eliminated, and the value None will no longer be accepted. Set `keepdims` to True or False to avoid this warning.\n",
      "  mode, _ = stats.mode(_y[neigh_ind, k], axis=1)\n",
      "D:\\Anaconda\\lib\\site-packages\\sklearn\\neighbors\\_classification.py:228: FutureWarning: Unlike other reduction functions (e.g. `skew`, `kurtosis`), the default behavior of `mode` typically preserves the axis it acts along. In SciPy 1.11.0, this behavior will change: the default value of `keepdims` will become False, the `axis` over which the statistic is taken will be eliminated, and the value None will no longer be accepted. Set `keepdims` to True or False to avoid this warning.\n",
      "  mode, _ = stats.mode(_y[neigh_ind, k], axis=1)\n",
      "D:\\Anaconda\\lib\\site-packages\\sklearn\\neighbors\\_classification.py:228: FutureWarning: Unlike other reduction functions (e.g. `skew`, `kurtosis`), the default behavior of `mode` typically preserves the axis it acts along. In SciPy 1.11.0, this behavior will change: the default value of `keepdims` will become False, the `axis` over which the statistic is taken will be eliminated, and the value None will no longer be accepted. Set `keepdims` to True or False to avoid this warning.\n",
      "  mode, _ = stats.mode(_y[neigh_ind, k], axis=1)\n",
      "D:\\Anaconda\\lib\\site-packages\\sklearn\\neighbors\\_classification.py:228: FutureWarning: Unlike other reduction functions (e.g. `skew`, `kurtosis`), the default behavior of `mode` typically preserves the axis it acts along. In SciPy 1.11.0, this behavior will change: the default value of `keepdims` will become False, the `axis` over which the statistic is taken will be eliminated, and the value None will no longer be accepted. Set `keepdims` to True or False to avoid this warning.\n",
      "  mode, _ = stats.mode(_y[neigh_ind, k], axis=1)\n",
      "D:\\Anaconda\\lib\\site-packages\\sklearn\\neighbors\\_classification.py:228: FutureWarning: Unlike other reduction functions (e.g. `skew`, `kurtosis`), the default behavior of `mode` typically preserves the axis it acts along. In SciPy 1.11.0, this behavior will change: the default value of `keepdims` will become False, the `axis` over which the statistic is taken will be eliminated, and the value None will no longer be accepted. Set `keepdims` to True or False to avoid this warning.\n",
      "  mode, _ = stats.mode(_y[neigh_ind, k], axis=1)\n",
      "D:\\Anaconda\\lib\\site-packages\\sklearn\\neighbors\\_classification.py:228: FutureWarning: Unlike other reduction functions (e.g. `skew`, `kurtosis`), the default behavior of `mode` typically preserves the axis it acts along. In SciPy 1.11.0, this behavior will change: the default value of `keepdims` will become False, the `axis` over which the statistic is taken will be eliminated, and the value None will no longer be accepted. Set `keepdims` to True or False to avoid this warning.\n",
      "  mode, _ = stats.mode(_y[neigh_ind, k], axis=1)\n"
     ]
    },
    {
     "name": "stderr",
     "output_type": "stream",
     "text": [
      "D:\\Anaconda\\lib\\site-packages\\sklearn\\neighbors\\_classification.py:228: FutureWarning: Unlike other reduction functions (e.g. `skew`, `kurtosis`), the default behavior of `mode` typically preserves the axis it acts along. In SciPy 1.11.0, this behavior will change: the default value of `keepdims` will become False, the `axis` over which the statistic is taken will be eliminated, and the value None will no longer be accepted. Set `keepdims` to True or False to avoid this warning.\n",
      "  mode, _ = stats.mode(_y[neigh_ind, k], axis=1)\n",
      "D:\\Anaconda\\lib\\site-packages\\sklearn\\neighbors\\_classification.py:228: FutureWarning: Unlike other reduction functions (e.g. `skew`, `kurtosis`), the default behavior of `mode` typically preserves the axis it acts along. In SciPy 1.11.0, this behavior will change: the default value of `keepdims` will become False, the `axis` over which the statistic is taken will be eliminated, and the value None will no longer be accepted. Set `keepdims` to True or False to avoid this warning.\n",
      "  mode, _ = stats.mode(_y[neigh_ind, k], axis=1)\n",
      "D:\\Anaconda\\lib\\site-packages\\sklearn\\neighbors\\_classification.py:228: FutureWarning: Unlike other reduction functions (e.g. `skew`, `kurtosis`), the default behavior of `mode` typically preserves the axis it acts along. In SciPy 1.11.0, this behavior will change: the default value of `keepdims` will become False, the `axis` over which the statistic is taken will be eliminated, and the value None will no longer be accepted. Set `keepdims` to True or False to avoid this warning.\n",
      "  mode, _ = stats.mode(_y[neigh_ind, k], axis=1)\n",
      "D:\\Anaconda\\lib\\site-packages\\sklearn\\neighbors\\_classification.py:228: FutureWarning: Unlike other reduction functions (e.g. `skew`, `kurtosis`), the default behavior of `mode` typically preserves the axis it acts along. In SciPy 1.11.0, this behavior will change: the default value of `keepdims` will become False, the `axis` over which the statistic is taken will be eliminated, and the value None will no longer be accepted. Set `keepdims` to True or False to avoid this warning.\n",
      "  mode, _ = stats.mode(_y[neigh_ind, k], axis=1)\n",
      "D:\\Anaconda\\lib\\site-packages\\sklearn\\neighbors\\_classification.py:228: FutureWarning: Unlike other reduction functions (e.g. `skew`, `kurtosis`), the default behavior of `mode` typically preserves the axis it acts along. In SciPy 1.11.0, this behavior will change: the default value of `keepdims` will become False, the `axis` over which the statistic is taken will be eliminated, and the value None will no longer be accepted. Set `keepdims` to True or False to avoid this warning.\n",
      "  mode, _ = stats.mode(_y[neigh_ind, k], axis=1)\n",
      "D:\\Anaconda\\lib\\site-packages\\sklearn\\neighbors\\_classification.py:228: FutureWarning: Unlike other reduction functions (e.g. `skew`, `kurtosis`), the default behavior of `mode` typically preserves the axis it acts along. In SciPy 1.11.0, this behavior will change: the default value of `keepdims` will become False, the `axis` over which the statistic is taken will be eliminated, and the value None will no longer be accepted. Set `keepdims` to True or False to avoid this warning.\n",
      "  mode, _ = stats.mode(_y[neigh_ind, k], axis=1)\n",
      "D:\\Anaconda\\lib\\site-packages\\sklearn\\neighbors\\_classification.py:228: FutureWarning: Unlike other reduction functions (e.g. `skew`, `kurtosis`), the default behavior of `mode` typically preserves the axis it acts along. In SciPy 1.11.0, this behavior will change: the default value of `keepdims` will become False, the `axis` over which the statistic is taken will be eliminated, and the value None will no longer be accepted. Set `keepdims` to True or False to avoid this warning.\n",
      "  mode, _ = stats.mode(_y[neigh_ind, k], axis=1)\n",
      "D:\\Anaconda\\lib\\site-packages\\sklearn\\neighbors\\_classification.py:228: FutureWarning: Unlike other reduction functions (e.g. `skew`, `kurtosis`), the default behavior of `mode` typically preserves the axis it acts along. In SciPy 1.11.0, this behavior will change: the default value of `keepdims` will become False, the `axis` over which the statistic is taken will be eliminated, and the value None will no longer be accepted. Set `keepdims` to True or False to avoid this warning.\n",
      "  mode, _ = stats.mode(_y[neigh_ind, k], axis=1)\n",
      "D:\\Anaconda\\lib\\site-packages\\sklearn\\neighbors\\_classification.py:228: FutureWarning: Unlike other reduction functions (e.g. `skew`, `kurtosis`), the default behavior of `mode` typically preserves the axis it acts along. In SciPy 1.11.0, this behavior will change: the default value of `keepdims` will become False, the `axis` over which the statistic is taken will be eliminated, and the value None will no longer be accepted. Set `keepdims` to True or False to avoid this warning.\n",
      "  mode, _ = stats.mode(_y[neigh_ind, k], axis=1)\n",
      "D:\\Anaconda\\lib\\site-packages\\sklearn\\neighbors\\_classification.py:228: FutureWarning: Unlike other reduction functions (e.g. `skew`, `kurtosis`), the default behavior of `mode` typically preserves the axis it acts along. In SciPy 1.11.0, this behavior will change: the default value of `keepdims` will become False, the `axis` over which the statistic is taken will be eliminated, and the value None will no longer be accepted. Set `keepdims` to True or False to avoid this warning.\n",
      "  mode, _ = stats.mode(_y[neigh_ind, k], axis=1)\n",
      "D:\\Anaconda\\lib\\site-packages\\sklearn\\neighbors\\_classification.py:228: FutureWarning: Unlike other reduction functions (e.g. `skew`, `kurtosis`), the default behavior of `mode` typically preserves the axis it acts along. In SciPy 1.11.0, this behavior will change: the default value of `keepdims` will become False, the `axis` over which the statistic is taken will be eliminated, and the value None will no longer be accepted. Set `keepdims` to True or False to avoid this warning.\n",
      "  mode, _ = stats.mode(_y[neigh_ind, k], axis=1)\n",
      "D:\\Anaconda\\lib\\site-packages\\sklearn\\neighbors\\_classification.py:228: FutureWarning: Unlike other reduction functions (e.g. `skew`, `kurtosis`), the default behavior of `mode` typically preserves the axis it acts along. In SciPy 1.11.0, this behavior will change: the default value of `keepdims` will become False, the `axis` over which the statistic is taken will be eliminated, and the value None will no longer be accepted. Set `keepdims` to True or False to avoid this warning.\n",
      "  mode, _ = stats.mode(_y[neigh_ind, k], axis=1)\n",
      "D:\\Anaconda\\lib\\site-packages\\sklearn\\neighbors\\_classification.py:228: FutureWarning: Unlike other reduction functions (e.g. `skew`, `kurtosis`), the default behavior of `mode` typically preserves the axis it acts along. In SciPy 1.11.0, this behavior will change: the default value of `keepdims` will become False, the `axis` over which the statistic is taken will be eliminated, and the value None will no longer be accepted. Set `keepdims` to True or False to avoid this warning.\n",
      "  mode, _ = stats.mode(_y[neigh_ind, k], axis=1)\n",
      "D:\\Anaconda\\lib\\site-packages\\sklearn\\neighbors\\_classification.py:228: FutureWarning: Unlike other reduction functions (e.g. `skew`, `kurtosis`), the default behavior of `mode` typically preserves the axis it acts along. In SciPy 1.11.0, this behavior will change: the default value of `keepdims` will become False, the `axis` over which the statistic is taken will be eliminated, and the value None will no longer be accepted. Set `keepdims` to True or False to avoid this warning.\n",
      "  mode, _ = stats.mode(_y[neigh_ind, k], axis=1)\n",
      "D:\\Anaconda\\lib\\site-packages\\sklearn\\neighbors\\_classification.py:228: FutureWarning: Unlike other reduction functions (e.g. `skew`, `kurtosis`), the default behavior of `mode` typically preserves the axis it acts along. In SciPy 1.11.0, this behavior will change: the default value of `keepdims` will become False, the `axis` over which the statistic is taken will be eliminated, and the value None will no longer be accepted. Set `keepdims` to True or False to avoid this warning.\n",
      "  mode, _ = stats.mode(_y[neigh_ind, k], axis=1)\n",
      "D:\\Anaconda\\lib\\site-packages\\sklearn\\neighbors\\_classification.py:228: FutureWarning: Unlike other reduction functions (e.g. `skew`, `kurtosis`), the default behavior of `mode` typically preserves the axis it acts along. In SciPy 1.11.0, this behavior will change: the default value of `keepdims` will become False, the `axis` over which the statistic is taken will be eliminated, and the value None will no longer be accepted. Set `keepdims` to True or False to avoid this warning.\n",
      "  mode, _ = stats.mode(_y[neigh_ind, k], axis=1)\n",
      "D:\\Anaconda\\lib\\site-packages\\sklearn\\neighbors\\_classification.py:228: FutureWarning: Unlike other reduction functions (e.g. `skew`, `kurtosis`), the default behavior of `mode` typically preserves the axis it acts along. In SciPy 1.11.0, this behavior will change: the default value of `keepdims` will become False, the `axis` over which the statistic is taken will be eliminated, and the value None will no longer be accepted. Set `keepdims` to True or False to avoid this warning.\n",
      "  mode, _ = stats.mode(_y[neigh_ind, k], axis=1)\n",
      "D:\\Anaconda\\lib\\site-packages\\sklearn\\neighbors\\_classification.py:228: FutureWarning: Unlike other reduction functions (e.g. `skew`, `kurtosis`), the default behavior of `mode` typically preserves the axis it acts along. In SciPy 1.11.0, this behavior will change: the default value of `keepdims` will become False, the `axis` over which the statistic is taken will be eliminated, and the value None will no longer be accepted. Set `keepdims` to True or False to avoid this warning.\n",
      "  mode, _ = stats.mode(_y[neigh_ind, k], axis=1)\n"
     ]
    },
    {
     "name": "stderr",
     "output_type": "stream",
     "text": [
      "D:\\Anaconda\\lib\\site-packages\\sklearn\\neighbors\\_classification.py:228: FutureWarning: Unlike other reduction functions (e.g. `skew`, `kurtosis`), the default behavior of `mode` typically preserves the axis it acts along. In SciPy 1.11.0, this behavior will change: the default value of `keepdims` will become False, the `axis` over which the statistic is taken will be eliminated, and the value None will no longer be accepted. Set `keepdims` to True or False to avoid this warning.\n",
      "  mode, _ = stats.mode(_y[neigh_ind, k], axis=1)\n",
      "D:\\Anaconda\\lib\\site-packages\\sklearn\\neighbors\\_classification.py:228: FutureWarning: Unlike other reduction functions (e.g. `skew`, `kurtosis`), the default behavior of `mode` typically preserves the axis it acts along. In SciPy 1.11.0, this behavior will change: the default value of `keepdims` will become False, the `axis` over which the statistic is taken will be eliminated, and the value None will no longer be accepted. Set `keepdims` to True or False to avoid this warning.\n",
      "  mode, _ = stats.mode(_y[neigh_ind, k], axis=1)\n",
      "D:\\Anaconda\\lib\\site-packages\\sklearn\\neighbors\\_classification.py:228: FutureWarning: Unlike other reduction functions (e.g. `skew`, `kurtosis`), the default behavior of `mode` typically preserves the axis it acts along. In SciPy 1.11.0, this behavior will change: the default value of `keepdims` will become False, the `axis` over which the statistic is taken will be eliminated, and the value None will no longer be accepted. Set `keepdims` to True or False to avoid this warning.\n",
      "  mode, _ = stats.mode(_y[neigh_ind, k], axis=1)\n",
      "D:\\Anaconda\\lib\\site-packages\\sklearn\\neighbors\\_classification.py:228: FutureWarning: Unlike other reduction functions (e.g. `skew`, `kurtosis`), the default behavior of `mode` typically preserves the axis it acts along. In SciPy 1.11.0, this behavior will change: the default value of `keepdims` will become False, the `axis` over which the statistic is taken will be eliminated, and the value None will no longer be accepted. Set `keepdims` to True or False to avoid this warning.\n",
      "  mode, _ = stats.mode(_y[neigh_ind, k], axis=1)\n",
      "D:\\Anaconda\\lib\\site-packages\\sklearn\\neighbors\\_classification.py:228: FutureWarning: Unlike other reduction functions (e.g. `skew`, `kurtosis`), the default behavior of `mode` typically preserves the axis it acts along. In SciPy 1.11.0, this behavior will change: the default value of `keepdims` will become False, the `axis` over which the statistic is taken will be eliminated, and the value None will no longer be accepted. Set `keepdims` to True or False to avoid this warning.\n",
      "  mode, _ = stats.mode(_y[neigh_ind, k], axis=1)\n",
      "D:\\Anaconda\\lib\\site-packages\\sklearn\\neighbors\\_classification.py:228: FutureWarning: Unlike other reduction functions (e.g. `skew`, `kurtosis`), the default behavior of `mode` typically preserves the axis it acts along. In SciPy 1.11.0, this behavior will change: the default value of `keepdims` will become False, the `axis` over which the statistic is taken will be eliminated, and the value None will no longer be accepted. Set `keepdims` to True or False to avoid this warning.\n",
      "  mode, _ = stats.mode(_y[neigh_ind, k], axis=1)\n",
      "D:\\Anaconda\\lib\\site-packages\\sklearn\\neighbors\\_classification.py:228: FutureWarning: Unlike other reduction functions (e.g. `skew`, `kurtosis`), the default behavior of `mode` typically preserves the axis it acts along. In SciPy 1.11.0, this behavior will change: the default value of `keepdims` will become False, the `axis` over which the statistic is taken will be eliminated, and the value None will no longer be accepted. Set `keepdims` to True or False to avoid this warning.\n",
      "  mode, _ = stats.mode(_y[neigh_ind, k], axis=1)\n",
      "D:\\Anaconda\\lib\\site-packages\\sklearn\\neighbors\\_classification.py:228: FutureWarning: Unlike other reduction functions (e.g. `skew`, `kurtosis`), the default behavior of `mode` typically preserves the axis it acts along. In SciPy 1.11.0, this behavior will change: the default value of `keepdims` will become False, the `axis` over which the statistic is taken will be eliminated, and the value None will no longer be accepted. Set `keepdims` to True or False to avoid this warning.\n",
      "  mode, _ = stats.mode(_y[neigh_ind, k], axis=1)\n",
      "D:\\Anaconda\\lib\\site-packages\\sklearn\\neighbors\\_classification.py:228: FutureWarning: Unlike other reduction functions (e.g. `skew`, `kurtosis`), the default behavior of `mode` typically preserves the axis it acts along. In SciPy 1.11.0, this behavior will change: the default value of `keepdims` will become False, the `axis` over which the statistic is taken will be eliminated, and the value None will no longer be accepted. Set `keepdims` to True or False to avoid this warning.\n",
      "  mode, _ = stats.mode(_y[neigh_ind, k], axis=1)\n",
      "D:\\Anaconda\\lib\\site-packages\\sklearn\\neighbors\\_classification.py:228: FutureWarning: Unlike other reduction functions (e.g. `skew`, `kurtosis`), the default behavior of `mode` typically preserves the axis it acts along. In SciPy 1.11.0, this behavior will change: the default value of `keepdims` will become False, the `axis` over which the statistic is taken will be eliminated, and the value None will no longer be accepted. Set `keepdims` to True or False to avoid this warning.\n",
      "  mode, _ = stats.mode(_y[neigh_ind, k], axis=1)\n",
      "D:\\Anaconda\\lib\\site-packages\\sklearn\\neighbors\\_classification.py:228: FutureWarning: Unlike other reduction functions (e.g. `skew`, `kurtosis`), the default behavior of `mode` typically preserves the axis it acts along. In SciPy 1.11.0, this behavior will change: the default value of `keepdims` will become False, the `axis` over which the statistic is taken will be eliminated, and the value None will no longer be accepted. Set `keepdims` to True or False to avoid this warning.\n",
      "  mode, _ = stats.mode(_y[neigh_ind, k], axis=1)\n",
      "D:\\Anaconda\\lib\\site-packages\\sklearn\\neighbors\\_classification.py:228: FutureWarning: Unlike other reduction functions (e.g. `skew`, `kurtosis`), the default behavior of `mode` typically preserves the axis it acts along. In SciPy 1.11.0, this behavior will change: the default value of `keepdims` will become False, the `axis` over which the statistic is taken will be eliminated, and the value None will no longer be accepted. Set `keepdims` to True or False to avoid this warning.\n",
      "  mode, _ = stats.mode(_y[neigh_ind, k], axis=1)\n",
      "D:\\Anaconda\\lib\\site-packages\\sklearn\\neighbors\\_classification.py:228: FutureWarning: Unlike other reduction functions (e.g. `skew`, `kurtosis`), the default behavior of `mode` typically preserves the axis it acts along. In SciPy 1.11.0, this behavior will change: the default value of `keepdims` will become False, the `axis` over which the statistic is taken will be eliminated, and the value None will no longer be accepted. Set `keepdims` to True or False to avoid this warning.\n",
      "  mode, _ = stats.mode(_y[neigh_ind, k], axis=1)\n",
      "D:\\Anaconda\\lib\\site-packages\\sklearn\\neighbors\\_classification.py:228: FutureWarning: Unlike other reduction functions (e.g. `skew`, `kurtosis`), the default behavior of `mode` typically preserves the axis it acts along. In SciPy 1.11.0, this behavior will change: the default value of `keepdims` will become False, the `axis` over which the statistic is taken will be eliminated, and the value None will no longer be accepted. Set `keepdims` to True or False to avoid this warning.\n",
      "  mode, _ = stats.mode(_y[neigh_ind, k], axis=1)\n",
      "D:\\Anaconda\\lib\\site-packages\\sklearn\\neighbors\\_classification.py:228: FutureWarning: Unlike other reduction functions (e.g. `skew`, `kurtosis`), the default behavior of `mode` typically preserves the axis it acts along. In SciPy 1.11.0, this behavior will change: the default value of `keepdims` will become False, the `axis` over which the statistic is taken will be eliminated, and the value None will no longer be accepted. Set `keepdims` to True or False to avoid this warning.\n",
      "  mode, _ = stats.mode(_y[neigh_ind, k], axis=1)\n",
      "D:\\Anaconda\\lib\\site-packages\\sklearn\\neighbors\\_classification.py:228: FutureWarning: Unlike other reduction functions (e.g. `skew`, `kurtosis`), the default behavior of `mode` typically preserves the axis it acts along. In SciPy 1.11.0, this behavior will change: the default value of `keepdims` will become False, the `axis` over which the statistic is taken will be eliminated, and the value None will no longer be accepted. Set `keepdims` to True or False to avoid this warning.\n",
      "  mode, _ = stats.mode(_y[neigh_ind, k], axis=1)\n"
     ]
    },
    {
     "name": "stderr",
     "output_type": "stream",
     "text": [
      "D:\\Anaconda\\lib\\site-packages\\sklearn\\neighbors\\_classification.py:228: FutureWarning: Unlike other reduction functions (e.g. `skew`, `kurtosis`), the default behavior of `mode` typically preserves the axis it acts along. In SciPy 1.11.0, this behavior will change: the default value of `keepdims` will become False, the `axis` over which the statistic is taken will be eliminated, and the value None will no longer be accepted. Set `keepdims` to True or False to avoid this warning.\n",
      "  mode, _ = stats.mode(_y[neigh_ind, k], axis=1)\n",
      "D:\\Anaconda\\lib\\site-packages\\sklearn\\neighbors\\_classification.py:228: FutureWarning: Unlike other reduction functions (e.g. `skew`, `kurtosis`), the default behavior of `mode` typically preserves the axis it acts along. In SciPy 1.11.0, this behavior will change: the default value of `keepdims` will become False, the `axis` over which the statistic is taken will be eliminated, and the value None will no longer be accepted. Set `keepdims` to True or False to avoid this warning.\n",
      "  mode, _ = stats.mode(_y[neigh_ind, k], axis=1)\n",
      "D:\\Anaconda\\lib\\site-packages\\sklearn\\neighbors\\_classification.py:228: FutureWarning: Unlike other reduction functions (e.g. `skew`, `kurtosis`), the default behavior of `mode` typically preserves the axis it acts along. In SciPy 1.11.0, this behavior will change: the default value of `keepdims` will become False, the `axis` over which the statistic is taken will be eliminated, and the value None will no longer be accepted. Set `keepdims` to True or False to avoid this warning.\n",
      "  mode, _ = stats.mode(_y[neigh_ind, k], axis=1)\n",
      "D:\\Anaconda\\lib\\site-packages\\sklearn\\neighbors\\_classification.py:228: FutureWarning: Unlike other reduction functions (e.g. `skew`, `kurtosis`), the default behavior of `mode` typically preserves the axis it acts along. In SciPy 1.11.0, this behavior will change: the default value of `keepdims` will become False, the `axis` over which the statistic is taken will be eliminated, and the value None will no longer be accepted. Set `keepdims` to True or False to avoid this warning.\n",
      "  mode, _ = stats.mode(_y[neigh_ind, k], axis=1)\n",
      "D:\\Anaconda\\lib\\site-packages\\sklearn\\neighbors\\_classification.py:228: FutureWarning: Unlike other reduction functions (e.g. `skew`, `kurtosis`), the default behavior of `mode` typically preserves the axis it acts along. In SciPy 1.11.0, this behavior will change: the default value of `keepdims` will become False, the `axis` over which the statistic is taken will be eliminated, and the value None will no longer be accepted. Set `keepdims` to True or False to avoid this warning.\n",
      "  mode, _ = stats.mode(_y[neigh_ind, k], axis=1)\n",
      "D:\\Anaconda\\lib\\site-packages\\sklearn\\neighbors\\_classification.py:228: FutureWarning: Unlike other reduction functions (e.g. `skew`, `kurtosis`), the default behavior of `mode` typically preserves the axis it acts along. In SciPy 1.11.0, this behavior will change: the default value of `keepdims` will become False, the `axis` over which the statistic is taken will be eliminated, and the value None will no longer be accepted. Set `keepdims` to True or False to avoid this warning.\n",
      "  mode, _ = stats.mode(_y[neigh_ind, k], axis=1)\n",
      "D:\\Anaconda\\lib\\site-packages\\sklearn\\neighbors\\_classification.py:228: FutureWarning: Unlike other reduction functions (e.g. `skew`, `kurtosis`), the default behavior of `mode` typically preserves the axis it acts along. In SciPy 1.11.0, this behavior will change: the default value of `keepdims` will become False, the `axis` over which the statistic is taken will be eliminated, and the value None will no longer be accepted. Set `keepdims` to True or False to avoid this warning.\n",
      "  mode, _ = stats.mode(_y[neigh_ind, k], axis=1)\n",
      "D:\\Anaconda\\lib\\site-packages\\sklearn\\neighbors\\_classification.py:228: FutureWarning: Unlike other reduction functions (e.g. `skew`, `kurtosis`), the default behavior of `mode` typically preserves the axis it acts along. In SciPy 1.11.0, this behavior will change: the default value of `keepdims` will become False, the `axis` over which the statistic is taken will be eliminated, and the value None will no longer be accepted. Set `keepdims` to True or False to avoid this warning.\n",
      "  mode, _ = stats.mode(_y[neigh_ind, k], axis=1)\n",
      "D:\\Anaconda\\lib\\site-packages\\sklearn\\neighbors\\_classification.py:228: FutureWarning: Unlike other reduction functions (e.g. `skew`, `kurtosis`), the default behavior of `mode` typically preserves the axis it acts along. In SciPy 1.11.0, this behavior will change: the default value of `keepdims` will become False, the `axis` over which the statistic is taken will be eliminated, and the value None will no longer be accepted. Set `keepdims` to True or False to avoid this warning.\n",
      "  mode, _ = stats.mode(_y[neigh_ind, k], axis=1)\n",
      "D:\\Anaconda\\lib\\site-packages\\sklearn\\neighbors\\_classification.py:228: FutureWarning: Unlike other reduction functions (e.g. `skew`, `kurtosis`), the default behavior of `mode` typically preserves the axis it acts along. In SciPy 1.11.0, this behavior will change: the default value of `keepdims` will become False, the `axis` over which the statistic is taken will be eliminated, and the value None will no longer be accepted. Set `keepdims` to True or False to avoid this warning.\n",
      "  mode, _ = stats.mode(_y[neigh_ind, k], axis=1)\n",
      "D:\\Anaconda\\lib\\site-packages\\sklearn\\neighbors\\_classification.py:228: FutureWarning: Unlike other reduction functions (e.g. `skew`, `kurtosis`), the default behavior of `mode` typically preserves the axis it acts along. In SciPy 1.11.0, this behavior will change: the default value of `keepdims` will become False, the `axis` over which the statistic is taken will be eliminated, and the value None will no longer be accepted. Set `keepdims` to True or False to avoid this warning.\n",
      "  mode, _ = stats.mode(_y[neigh_ind, k], axis=1)\n",
      "D:\\Anaconda\\lib\\site-packages\\sklearn\\neighbors\\_classification.py:228: FutureWarning: Unlike other reduction functions (e.g. `skew`, `kurtosis`), the default behavior of `mode` typically preserves the axis it acts along. In SciPy 1.11.0, this behavior will change: the default value of `keepdims` will become False, the `axis` over which the statistic is taken will be eliminated, and the value None will no longer be accepted. Set `keepdims` to True or False to avoid this warning.\n",
      "  mode, _ = stats.mode(_y[neigh_ind, k], axis=1)\n",
      "D:\\Anaconda\\lib\\site-packages\\sklearn\\neighbors\\_classification.py:228: FutureWarning: Unlike other reduction functions (e.g. `skew`, `kurtosis`), the default behavior of `mode` typically preserves the axis it acts along. In SciPy 1.11.0, this behavior will change: the default value of `keepdims` will become False, the `axis` over which the statistic is taken will be eliminated, and the value None will no longer be accepted. Set `keepdims` to True or False to avoid this warning.\n",
      "  mode, _ = stats.mode(_y[neigh_ind, k], axis=1)\n",
      "D:\\Anaconda\\lib\\site-packages\\sklearn\\neighbors\\_classification.py:228: FutureWarning: Unlike other reduction functions (e.g. `skew`, `kurtosis`), the default behavior of `mode` typically preserves the axis it acts along. In SciPy 1.11.0, this behavior will change: the default value of `keepdims` will become False, the `axis` over which the statistic is taken will be eliminated, and the value None will no longer be accepted. Set `keepdims` to True or False to avoid this warning.\n",
      "  mode, _ = stats.mode(_y[neigh_ind, k], axis=1)\n",
      "D:\\Anaconda\\lib\\site-packages\\sklearn\\neighbors\\_classification.py:228: FutureWarning: Unlike other reduction functions (e.g. `skew`, `kurtosis`), the default behavior of `mode` typically preserves the axis it acts along. In SciPy 1.11.0, this behavior will change: the default value of `keepdims` will become False, the `axis` over which the statistic is taken will be eliminated, and the value None will no longer be accepted. Set `keepdims` to True or False to avoid this warning.\n",
      "  mode, _ = stats.mode(_y[neigh_ind, k], axis=1)\n",
      "D:\\Anaconda\\lib\\site-packages\\sklearn\\neighbors\\_classification.py:228: FutureWarning: Unlike other reduction functions (e.g. `skew`, `kurtosis`), the default behavior of `mode` typically preserves the axis it acts along. In SciPy 1.11.0, this behavior will change: the default value of `keepdims` will become False, the `axis` over which the statistic is taken will be eliminated, and the value None will no longer be accepted. Set `keepdims` to True or False to avoid this warning.\n",
      "  mode, _ = stats.mode(_y[neigh_ind, k], axis=1)\n",
      "D:\\Anaconda\\lib\\site-packages\\sklearn\\neighbors\\_classification.py:228: FutureWarning: Unlike other reduction functions (e.g. `skew`, `kurtosis`), the default behavior of `mode` typically preserves the axis it acts along. In SciPy 1.11.0, this behavior will change: the default value of `keepdims` will become False, the `axis` over which the statistic is taken will be eliminated, and the value None will no longer be accepted. Set `keepdims` to True or False to avoid this warning.\n",
      "  mode, _ = stats.mode(_y[neigh_ind, k], axis=1)\n"
     ]
    },
    {
     "name": "stderr",
     "output_type": "stream",
     "text": [
      "D:\\Anaconda\\lib\\site-packages\\sklearn\\neighbors\\_classification.py:228: FutureWarning: Unlike other reduction functions (e.g. `skew`, `kurtosis`), the default behavior of `mode` typically preserves the axis it acts along. In SciPy 1.11.0, this behavior will change: the default value of `keepdims` will become False, the `axis` over which the statistic is taken will be eliminated, and the value None will no longer be accepted. Set `keepdims` to True or False to avoid this warning.\n",
      "  mode, _ = stats.mode(_y[neigh_ind, k], axis=1)\n",
      "D:\\Anaconda\\lib\\site-packages\\sklearn\\neighbors\\_classification.py:228: FutureWarning: Unlike other reduction functions (e.g. `skew`, `kurtosis`), the default behavior of `mode` typically preserves the axis it acts along. In SciPy 1.11.0, this behavior will change: the default value of `keepdims` will become False, the `axis` over which the statistic is taken will be eliminated, and the value None will no longer be accepted. Set `keepdims` to True or False to avoid this warning.\n",
      "  mode, _ = stats.mode(_y[neigh_ind, k], axis=1)\n",
      "D:\\Anaconda\\lib\\site-packages\\sklearn\\neighbors\\_classification.py:228: FutureWarning: Unlike other reduction functions (e.g. `skew`, `kurtosis`), the default behavior of `mode` typically preserves the axis it acts along. In SciPy 1.11.0, this behavior will change: the default value of `keepdims` will become False, the `axis` over which the statistic is taken will be eliminated, and the value None will no longer be accepted. Set `keepdims` to True or False to avoid this warning.\n",
      "  mode, _ = stats.mode(_y[neigh_ind, k], axis=1)\n",
      "D:\\Anaconda\\lib\\site-packages\\sklearn\\neighbors\\_classification.py:228: FutureWarning: Unlike other reduction functions (e.g. `skew`, `kurtosis`), the default behavior of `mode` typically preserves the axis it acts along. In SciPy 1.11.0, this behavior will change: the default value of `keepdims` will become False, the `axis` over which the statistic is taken will be eliminated, and the value None will no longer be accepted. Set `keepdims` to True or False to avoid this warning.\n",
      "  mode, _ = stats.mode(_y[neigh_ind, k], axis=1)\n",
      "D:\\Anaconda\\lib\\site-packages\\sklearn\\neighbors\\_classification.py:228: FutureWarning: Unlike other reduction functions (e.g. `skew`, `kurtosis`), the default behavior of `mode` typically preserves the axis it acts along. In SciPy 1.11.0, this behavior will change: the default value of `keepdims` will become False, the `axis` over which the statistic is taken will be eliminated, and the value None will no longer be accepted. Set `keepdims` to True or False to avoid this warning.\n",
      "  mode, _ = stats.mode(_y[neigh_ind, k], axis=1)\n",
      "D:\\Anaconda\\lib\\site-packages\\sklearn\\neighbors\\_classification.py:228: FutureWarning: Unlike other reduction functions (e.g. `skew`, `kurtosis`), the default behavior of `mode` typically preserves the axis it acts along. In SciPy 1.11.0, this behavior will change: the default value of `keepdims` will become False, the `axis` over which the statistic is taken will be eliminated, and the value None will no longer be accepted. Set `keepdims` to True or False to avoid this warning.\n",
      "  mode, _ = stats.mode(_y[neigh_ind, k], axis=1)\n",
      "D:\\Anaconda\\lib\\site-packages\\sklearn\\neighbors\\_classification.py:228: FutureWarning: Unlike other reduction functions (e.g. `skew`, `kurtosis`), the default behavior of `mode` typically preserves the axis it acts along. In SciPy 1.11.0, this behavior will change: the default value of `keepdims` will become False, the `axis` over which the statistic is taken will be eliminated, and the value None will no longer be accepted. Set `keepdims` to True or False to avoid this warning.\n",
      "  mode, _ = stats.mode(_y[neigh_ind, k], axis=1)\n",
      "D:\\Anaconda\\lib\\site-packages\\sklearn\\neighbors\\_classification.py:228: FutureWarning: Unlike other reduction functions (e.g. `skew`, `kurtosis`), the default behavior of `mode` typically preserves the axis it acts along. In SciPy 1.11.0, this behavior will change: the default value of `keepdims` will become False, the `axis` over which the statistic is taken will be eliminated, and the value None will no longer be accepted. Set `keepdims` to True or False to avoid this warning.\n",
      "  mode, _ = stats.mode(_y[neigh_ind, k], axis=1)\n",
      "D:\\Anaconda\\lib\\site-packages\\sklearn\\neighbors\\_classification.py:228: FutureWarning: Unlike other reduction functions (e.g. `skew`, `kurtosis`), the default behavior of `mode` typically preserves the axis it acts along. In SciPy 1.11.0, this behavior will change: the default value of `keepdims` will become False, the `axis` over which the statistic is taken will be eliminated, and the value None will no longer be accepted. Set `keepdims` to True or False to avoid this warning.\n",
      "  mode, _ = stats.mode(_y[neigh_ind, k], axis=1)\n",
      "D:\\Anaconda\\lib\\site-packages\\sklearn\\neighbors\\_classification.py:228: FutureWarning: Unlike other reduction functions (e.g. `skew`, `kurtosis`), the default behavior of `mode` typically preserves the axis it acts along. In SciPy 1.11.0, this behavior will change: the default value of `keepdims` will become False, the `axis` over which the statistic is taken will be eliminated, and the value None will no longer be accepted. Set `keepdims` to True or False to avoid this warning.\n",
      "  mode, _ = stats.mode(_y[neigh_ind, k], axis=1)\n",
      "D:\\Anaconda\\lib\\site-packages\\sklearn\\neighbors\\_classification.py:228: FutureWarning: Unlike other reduction functions (e.g. `skew`, `kurtosis`), the default behavior of `mode` typically preserves the axis it acts along. In SciPy 1.11.0, this behavior will change: the default value of `keepdims` will become False, the `axis` over which the statistic is taken will be eliminated, and the value None will no longer be accepted. Set `keepdims` to True or False to avoid this warning.\n",
      "  mode, _ = stats.mode(_y[neigh_ind, k], axis=1)\n",
      "D:\\Anaconda\\lib\\site-packages\\sklearn\\neighbors\\_classification.py:228: FutureWarning: Unlike other reduction functions (e.g. `skew`, `kurtosis`), the default behavior of `mode` typically preserves the axis it acts along. In SciPy 1.11.0, this behavior will change: the default value of `keepdims` will become False, the `axis` over which the statistic is taken will be eliminated, and the value None will no longer be accepted. Set `keepdims` to True or False to avoid this warning.\n",
      "  mode, _ = stats.mode(_y[neigh_ind, k], axis=1)\n",
      "D:\\Anaconda\\lib\\site-packages\\sklearn\\neighbors\\_classification.py:228: FutureWarning: Unlike other reduction functions (e.g. `skew`, `kurtosis`), the default behavior of `mode` typically preserves the axis it acts along. In SciPy 1.11.0, this behavior will change: the default value of `keepdims` will become False, the `axis` over which the statistic is taken will be eliminated, and the value None will no longer be accepted. Set `keepdims` to True or False to avoid this warning.\n",
      "  mode, _ = stats.mode(_y[neigh_ind, k], axis=1)\n",
      "D:\\Anaconda\\lib\\site-packages\\sklearn\\neighbors\\_classification.py:228: FutureWarning: Unlike other reduction functions (e.g. `skew`, `kurtosis`), the default behavior of `mode` typically preserves the axis it acts along. In SciPy 1.11.0, this behavior will change: the default value of `keepdims` will become False, the `axis` over which the statistic is taken will be eliminated, and the value None will no longer be accepted. Set `keepdims` to True or False to avoid this warning.\n",
      "  mode, _ = stats.mode(_y[neigh_ind, k], axis=1)\n",
      "D:\\Anaconda\\lib\\site-packages\\sklearn\\neighbors\\_classification.py:228: FutureWarning: Unlike other reduction functions (e.g. `skew`, `kurtosis`), the default behavior of `mode` typically preserves the axis it acts along. In SciPy 1.11.0, this behavior will change: the default value of `keepdims` will become False, the `axis` over which the statistic is taken will be eliminated, and the value None will no longer be accepted. Set `keepdims` to True or False to avoid this warning.\n",
      "  mode, _ = stats.mode(_y[neigh_ind, k], axis=1)\n",
      "D:\\Anaconda\\lib\\site-packages\\sklearn\\neighbors\\_classification.py:228: FutureWarning: Unlike other reduction functions (e.g. `skew`, `kurtosis`), the default behavior of `mode` typically preserves the axis it acts along. In SciPy 1.11.0, this behavior will change: the default value of `keepdims` will become False, the `axis` over which the statistic is taken will be eliminated, and the value None will no longer be accepted. Set `keepdims` to True or False to avoid this warning.\n",
      "  mode, _ = stats.mode(_y[neigh_ind, k], axis=1)\n",
      "D:\\Anaconda\\lib\\site-packages\\sklearn\\neighbors\\_classification.py:228: FutureWarning: Unlike other reduction functions (e.g. `skew`, `kurtosis`), the default behavior of `mode` typically preserves the axis it acts along. In SciPy 1.11.0, this behavior will change: the default value of `keepdims` will become False, the `axis` over which the statistic is taken will be eliminated, and the value None will no longer be accepted. Set `keepdims` to True or False to avoid this warning.\n",
      "  mode, _ = stats.mode(_y[neigh_ind, k], axis=1)\n"
     ]
    },
    {
     "name": "stderr",
     "output_type": "stream",
     "text": [
      "D:\\Anaconda\\lib\\site-packages\\sklearn\\neighbors\\_classification.py:228: FutureWarning: Unlike other reduction functions (e.g. `skew`, `kurtosis`), the default behavior of `mode` typically preserves the axis it acts along. In SciPy 1.11.0, this behavior will change: the default value of `keepdims` will become False, the `axis` over which the statistic is taken will be eliminated, and the value None will no longer be accepted. Set `keepdims` to True or False to avoid this warning.\n",
      "  mode, _ = stats.mode(_y[neigh_ind, k], axis=1)\n",
      "D:\\Anaconda\\lib\\site-packages\\sklearn\\neighbors\\_classification.py:228: FutureWarning: Unlike other reduction functions (e.g. `skew`, `kurtosis`), the default behavior of `mode` typically preserves the axis it acts along. In SciPy 1.11.0, this behavior will change: the default value of `keepdims` will become False, the `axis` over which the statistic is taken will be eliminated, and the value None will no longer be accepted. Set `keepdims` to True or False to avoid this warning.\n",
      "  mode, _ = stats.mode(_y[neigh_ind, k], axis=1)\n",
      "D:\\Anaconda\\lib\\site-packages\\sklearn\\neighbors\\_classification.py:228: FutureWarning: Unlike other reduction functions (e.g. `skew`, `kurtosis`), the default behavior of `mode` typically preserves the axis it acts along. In SciPy 1.11.0, this behavior will change: the default value of `keepdims` will become False, the `axis` over which the statistic is taken will be eliminated, and the value None will no longer be accepted. Set `keepdims` to True or False to avoid this warning.\n",
      "  mode, _ = stats.mode(_y[neigh_ind, k], axis=1)\n",
      "D:\\Anaconda\\lib\\site-packages\\sklearn\\neighbors\\_classification.py:228: FutureWarning: Unlike other reduction functions (e.g. `skew`, `kurtosis`), the default behavior of `mode` typically preserves the axis it acts along. In SciPy 1.11.0, this behavior will change: the default value of `keepdims` will become False, the `axis` over which the statistic is taken will be eliminated, and the value None will no longer be accepted. Set `keepdims` to True or False to avoid this warning.\n",
      "  mode, _ = stats.mode(_y[neigh_ind, k], axis=1)\n",
      "D:\\Anaconda\\lib\\site-packages\\sklearn\\neighbors\\_classification.py:228: FutureWarning: Unlike other reduction functions (e.g. `skew`, `kurtosis`), the default behavior of `mode` typically preserves the axis it acts along. In SciPy 1.11.0, this behavior will change: the default value of `keepdims` will become False, the `axis` over which the statistic is taken will be eliminated, and the value None will no longer be accepted. Set `keepdims` to True or False to avoid this warning.\n",
      "  mode, _ = stats.mode(_y[neigh_ind, k], axis=1)\n",
      "D:\\Anaconda\\lib\\site-packages\\sklearn\\neighbors\\_classification.py:228: FutureWarning: Unlike other reduction functions (e.g. `skew`, `kurtosis`), the default behavior of `mode` typically preserves the axis it acts along. In SciPy 1.11.0, this behavior will change: the default value of `keepdims` will become False, the `axis` over which the statistic is taken will be eliminated, and the value None will no longer be accepted. Set `keepdims` to True or False to avoid this warning.\n",
      "  mode, _ = stats.mode(_y[neigh_ind, k], axis=1)\n",
      "D:\\Anaconda\\lib\\site-packages\\sklearn\\neighbors\\_classification.py:228: FutureWarning: Unlike other reduction functions (e.g. `skew`, `kurtosis`), the default behavior of `mode` typically preserves the axis it acts along. In SciPy 1.11.0, this behavior will change: the default value of `keepdims` will become False, the `axis` over which the statistic is taken will be eliminated, and the value None will no longer be accepted. Set `keepdims` to True or False to avoid this warning.\n",
      "  mode, _ = stats.mode(_y[neigh_ind, k], axis=1)\n",
      "D:\\Anaconda\\lib\\site-packages\\sklearn\\neighbors\\_classification.py:228: FutureWarning: Unlike other reduction functions (e.g. `skew`, `kurtosis`), the default behavior of `mode` typically preserves the axis it acts along. In SciPy 1.11.0, this behavior will change: the default value of `keepdims` will become False, the `axis` over which the statistic is taken will be eliminated, and the value None will no longer be accepted. Set `keepdims` to True or False to avoid this warning.\n",
      "  mode, _ = stats.mode(_y[neigh_ind, k], axis=1)\n",
      "D:\\Anaconda\\lib\\site-packages\\sklearn\\neighbors\\_classification.py:228: FutureWarning: Unlike other reduction functions (e.g. `skew`, `kurtosis`), the default behavior of `mode` typically preserves the axis it acts along. In SciPy 1.11.0, this behavior will change: the default value of `keepdims` will become False, the `axis` over which the statistic is taken will be eliminated, and the value None will no longer be accepted. Set `keepdims` to True or False to avoid this warning.\n",
      "  mode, _ = stats.mode(_y[neigh_ind, k], axis=1)\n",
      "D:\\Anaconda\\lib\\site-packages\\sklearn\\neighbors\\_classification.py:228: FutureWarning: Unlike other reduction functions (e.g. `skew`, `kurtosis`), the default behavior of `mode` typically preserves the axis it acts along. In SciPy 1.11.0, this behavior will change: the default value of `keepdims` will become False, the `axis` over which the statistic is taken will be eliminated, and the value None will no longer be accepted. Set `keepdims` to True or False to avoid this warning.\n",
      "  mode, _ = stats.mode(_y[neigh_ind, k], axis=1)\n",
      "D:\\Anaconda\\lib\\site-packages\\sklearn\\neighbors\\_classification.py:228: FutureWarning: Unlike other reduction functions (e.g. `skew`, `kurtosis`), the default behavior of `mode` typically preserves the axis it acts along. In SciPy 1.11.0, this behavior will change: the default value of `keepdims` will become False, the `axis` over which the statistic is taken will be eliminated, and the value None will no longer be accepted. Set `keepdims` to True or False to avoid this warning.\n",
      "  mode, _ = stats.mode(_y[neigh_ind, k], axis=1)\n",
      "D:\\Anaconda\\lib\\site-packages\\sklearn\\neighbors\\_classification.py:228: FutureWarning: Unlike other reduction functions (e.g. `skew`, `kurtosis`), the default behavior of `mode` typically preserves the axis it acts along. In SciPy 1.11.0, this behavior will change: the default value of `keepdims` will become False, the `axis` over which the statistic is taken will be eliminated, and the value None will no longer be accepted. Set `keepdims` to True or False to avoid this warning.\n",
      "  mode, _ = stats.mode(_y[neigh_ind, k], axis=1)\n",
      "D:\\Anaconda\\lib\\site-packages\\sklearn\\neighbors\\_classification.py:228: FutureWarning: Unlike other reduction functions (e.g. `skew`, `kurtosis`), the default behavior of `mode` typically preserves the axis it acts along. In SciPy 1.11.0, this behavior will change: the default value of `keepdims` will become False, the `axis` over which the statistic is taken will be eliminated, and the value None will no longer be accepted. Set `keepdims` to True or False to avoid this warning.\n",
      "  mode, _ = stats.mode(_y[neigh_ind, k], axis=1)\n",
      "D:\\Anaconda\\lib\\site-packages\\sklearn\\neighbors\\_classification.py:228: FutureWarning: Unlike other reduction functions (e.g. `skew`, `kurtosis`), the default behavior of `mode` typically preserves the axis it acts along. In SciPy 1.11.0, this behavior will change: the default value of `keepdims` will become False, the `axis` over which the statistic is taken will be eliminated, and the value None will no longer be accepted. Set `keepdims` to True or False to avoid this warning.\n",
      "  mode, _ = stats.mode(_y[neigh_ind, k], axis=1)\n",
      "D:\\Anaconda\\lib\\site-packages\\sklearn\\neighbors\\_classification.py:228: FutureWarning: Unlike other reduction functions (e.g. `skew`, `kurtosis`), the default behavior of `mode` typically preserves the axis it acts along. In SciPy 1.11.0, this behavior will change: the default value of `keepdims` will become False, the `axis` over which the statistic is taken will be eliminated, and the value None will no longer be accepted. Set `keepdims` to True or False to avoid this warning.\n",
      "  mode, _ = stats.mode(_y[neigh_ind, k], axis=1)\n",
      "D:\\Anaconda\\lib\\site-packages\\sklearn\\neighbors\\_classification.py:228: FutureWarning: Unlike other reduction functions (e.g. `skew`, `kurtosis`), the default behavior of `mode` typically preserves the axis it acts along. In SciPy 1.11.0, this behavior will change: the default value of `keepdims` will become False, the `axis` over which the statistic is taken will be eliminated, and the value None will no longer be accepted. Set `keepdims` to True or False to avoid this warning.\n",
      "  mode, _ = stats.mode(_y[neigh_ind, k], axis=1)\n"
     ]
    },
    {
     "name": "stderr",
     "output_type": "stream",
     "text": [
      "D:\\Anaconda\\lib\\site-packages\\sklearn\\neighbors\\_classification.py:228: FutureWarning: Unlike other reduction functions (e.g. `skew`, `kurtosis`), the default behavior of `mode` typically preserves the axis it acts along. In SciPy 1.11.0, this behavior will change: the default value of `keepdims` will become False, the `axis` over which the statistic is taken will be eliminated, and the value None will no longer be accepted. Set `keepdims` to True or False to avoid this warning.\n",
      "  mode, _ = stats.mode(_y[neigh_ind, k], axis=1)\n",
      "D:\\Anaconda\\lib\\site-packages\\sklearn\\neighbors\\_classification.py:228: FutureWarning: Unlike other reduction functions (e.g. `skew`, `kurtosis`), the default behavior of `mode` typically preserves the axis it acts along. In SciPy 1.11.0, this behavior will change: the default value of `keepdims` will become False, the `axis` over which the statistic is taken will be eliminated, and the value None will no longer be accepted. Set `keepdims` to True or False to avoid this warning.\n",
      "  mode, _ = stats.mode(_y[neigh_ind, k], axis=1)\n"
     ]
    },
    {
     "data": {
      "text/plain": [
       "{'n_neighbors': 9}"
      ]
     },
     "execution_count": 24,
     "metadata": {},
     "output_type": "execute_result"
    }
   ],
   "source": [
    "get_param(X_train,y_train,knn_model,'n_neighbors')"
   ]
  },
  {
   "cell_type": "markdown",
   "id": "97922761",
   "metadata": {},
   "source": [
    "#### DecisionTreeClassifier()"
   ]
  },
  {
   "cell_type": "code",
   "execution_count": 25,
   "id": "541da08b",
   "metadata": {
    "scrolled": true
   },
   "outputs": [
    {
     "name": "stdout",
     "output_type": "stream",
     "text": [
      "Accuracy:  0.9152941176470588\n",
      "              precision    recall  f1-score   support\n",
      "\n",
      "           0       0.95      0.95      0.95       721\n",
      "           1       0.72      0.73      0.72       129\n",
      "\n",
      "    accuracy                           0.92       850\n",
      "   macro avg       0.83      0.84      0.84       850\n",
      "weighted avg       0.92      0.92      0.92       850\n",
      "\n"
     ]
    }
   ],
   "source": [
    "tree_model=DecisionTreeClassifier(random_state=79)\n",
    "tree_model.fit(X_train,y_train)\n",
    "predict_tree=tree_model.predict(X_test)\n",
    "tree_accuracy=accuracy_score(y_test,predict_tree)\n",
    "print('Accuracy: ',tree_accuracy)\n",
    "print(classification_report(y_test,predict_tree))"
   ]
  },
  {
   "cell_type": "markdown",
   "id": "c2de7626",
   "metadata": {},
   "source": [
    "#### RandomForestClassifier()"
   ]
  },
  {
   "cell_type": "code",
   "execution_count": 26,
   "id": "0a2dabcc",
   "metadata": {},
   "outputs": [
    {
     "name": "stdout",
     "output_type": "stream",
     "text": [
      "Accuracy:  0.9576470588235294\n",
      "              precision    recall  f1-score   support\n",
      "\n",
      "           0       0.96      0.99      0.98       721\n",
      "           1       0.93      0.78      0.85       129\n",
      "\n",
      "    accuracy                           0.96       850\n",
      "   macro avg       0.94      0.89      0.91       850\n",
      "weighted avg       0.96      0.96      0.96       850\n",
      "\n"
     ]
    }
   ],
   "source": [
    "RF_model=RandomForestClassifier(n_estimators=15,random_state=66)\n",
    "RF_model.fit(X_train,y_train)\n",
    "predict_RF=RF_model.predict(X_test)\n",
    "RF_accuracy=accuracy_score(y_test,predict_RF)\n",
    "print('Accuracy: ',RF_accuracy)\n",
    "print(classification_report(y_test,predict_RF))"
   ]
  },
  {
   "cell_type": "code",
   "execution_count": 27,
   "id": "8a489e3c",
   "metadata": {},
   "outputs": [
    {
     "data": {
      "text/plain": [
       "{'n_estimators': 15}"
      ]
     },
     "execution_count": 27,
     "metadata": {},
     "output_type": "execute_result"
    }
   ],
   "source": [
    "get_param(X_train,y_train,RF_model,'n_estimators')"
   ]
  },
  {
   "cell_type": "markdown",
   "id": "7583bcbf",
   "metadata": {},
   "source": [
    "#### XGBClassifier()"
   ]
  },
  {
   "cell_type": "code",
   "execution_count": 28,
   "id": "8306c451",
   "metadata": {},
   "outputs": [
    {
     "name": "stdout",
     "output_type": "stream",
     "text": [
      "Accuracy:  0.9647058823529412\n",
      "              precision    recall  f1-score   support\n",
      "\n",
      "           0       0.97      0.99      0.98       721\n",
      "           1       0.95      0.81      0.88       129\n",
      "\n",
      "    accuracy                           0.96       850\n",
      "   macro avg       0.96      0.90      0.93       850\n",
      "weighted avg       0.96      0.96      0.96       850\n",
      "\n"
     ]
    }
   ],
   "source": [
    "xgb_model=XGBClassifier()\n",
    "xgb_model.fit(X_train,y_train)\n",
    "predict_xgb=xgb_model.predict(X_test)\n",
    "xgb_accuracy=accuracy_score(y_test,predict_xgb)\n",
    "print('Accuracy: ',xgb_accuracy)\n",
    "print(classification_report(y_test,predict_xgb))"
   ]
  },
  {
   "cell_type": "markdown",
   "id": "e3eaea04",
   "metadata": {},
   "source": [
    "#### SVC()- Support Vector machine algorithm (for classification)"
   ]
  },
  {
   "cell_type": "code",
   "execution_count": 29,
   "id": "de8dd5d4",
   "metadata": {},
   "outputs": [
    {
     "name": "stdout",
     "output_type": "stream",
     "text": [
      "Accuracy:  0.851764705882353\n",
      "              precision    recall  f1-score   support\n",
      "\n",
      "           0       0.85      1.00      0.92       721\n",
      "           1       1.00      0.02      0.05       129\n",
      "\n",
      "    accuracy                           0.85       850\n",
      "   macro avg       0.93      0.51      0.48       850\n",
      "weighted avg       0.87      0.85      0.79       850\n",
      "\n"
     ]
    }
   ],
   "source": [
    "svc_model=SVC()\n",
    "svc_model.fit(X_train,y_train)\n",
    "predict_svc=svc_model.predict(X_test)\n",
    "svc_accuracy=accuracy_score(y_test,predict_svc)\n",
    "print('Accuracy: ',svc_accuracy)\n",
    "print(classification_report(y_test,predict_svc))"
   ]
  },
  {
   "cell_type": "markdown",
   "id": "24c52696",
   "metadata": {},
   "source": [
    "### Overall Conclusion"
   ]
  },
  {
   "cell_type": "code",
   "execution_count": 33,
   "id": "9e547c8b",
   "metadata": {},
   "outputs": [
    {
     "data": {
      "image/png": "[encoded data removed]",
      "text/plain": [
       "<Figure size 2000x300 with 10 Axes>"
      ]
     },
     "metadata": {},
     "output_type": "display_data"
    }
   ],
   "source": [
    "arr=[confusion_matrix(y_test,predict_knn),\n",
    "     confusion_matrix(y_test,predict_tree),\n",
    "     confusion_matrix(y_test,predict_RF),\n",
    "     confusion_matrix(y_test,predict_xgb),\n",
    "     confusion_matrix(y_test,predict_svc),]\n",
    "confusions=np.array(arr)\n",
    "i,j=1,5\n",
    "titles_matrix=np.array(['KNN model','Tree model','Random Forest model','XGB model','SVM model'])\n",
    "fig,ax=plt.subplots(i,j,figsize=(20,3))\n",
    "#axes=[[a,b] for a in range(i) for b in range(j)]\n",
    "#fig.suptitle('Overall Conclusion')\n",
    "\n",
    "for m  in range(len(arr)):\n",
    "    sns.heatmap(confusions[m],ax=ax[m],annot=True,fmt='g')\n",
    "    ax[m].set_title(titles_matrix[m])\n",
    "    m+=1\n",
    "\n",
    "\n",
    "plt.show()"
   ]
  },
  {
   "cell_type": "markdown",
   "id": "f8bd4a10",
   "metadata": {},
   "source": [
    "#### Conclusion: XGB is best predictor models for our data"
   ]
  },
  {
   "cell_type": "code",
   "execution_count": 34,
   "id": "ae60898b",
   "metadata": {},
   "outputs": [
    {
     "data": {
      "image/png": "[encoded data removed]",
      "text/plain": [
       "<Figure size 640x480 with 1 Axes>"
      ]
     },
     "metadata": {},
     "output_type": "display_data"
    }
   ],
   "source": [
    "fpr,tpr,thresholds=roc_curve(y_test,predict_xgb)\n",
    "roc_auc=auc(fpr,tpr)\n",
    "display=RocCurveDisplay(fpr=fpr,tpr=tpr,roc_auc=roc_auc,estimator_name='ROC curve')\n",
    "display.plot()\n",
    "\n",
    "plt.show()"
   ]
  },
  {
   "cell_type": "markdown",
   "id": "38c6378f",
   "metadata": {},
   "source": [
    "# Actual data pediction"
   ]
  },
  {
   "cell_type": "code",
   "execution_count": 35,
   "id": "76da070a",
   "metadata": {},
   "outputs": [],
   "source": [
    "pred_test=xgb_model.predict(test_X)"
   ]
  },
  {
   "cell_type": "code",
   "execution_count": null,
   "id": "44eaf047",
   "metadata": {},
   "outputs": [],
   "source": []
  },
  {
   "cell_type": "code",
   "execution_count": 72,
   "id": "3da63918",
   "metadata": {},
   "outputs": [],
   "source": [
    "models=[xgb_model,RF_model]\n",
    "filenames_jbl=['XGB.jbl','Random_Forest.jbl']\n",
    "i=0\n",
    "for f in filenames_jbl:\n",
    "    with open(f,'wb') as file:\n",
    "        joblib.dump(models[i],file)\n",
    "    i+=1    "
   ]
  },
  {
   "cell_type": "code",
   "execution_count": 73,
   "id": "2a8ba190",
   "metadata": {},
   "outputs": [],
   "source": [
    "filenames_pkl=['XGB.pkl','Random_Forest.pkl']\n",
    "j=0\n",
    "for f in filenames_pkl:\n",
    "    with open(f,'wb') as file:\n",
    "        pickle.dump(models[j],file)\n",
    "        j+=1"
   ]
  },
  {
   "cell_type": "code",
   "execution_count": 62,
   "id": "55b93222",
   "metadata": {},
   "outputs": [
    {
     "data": {
      "text/plain": [
       "array([0, 0, 1, 0, 0, 0, 0, 0, 0, 1])"
      ]
     },
     "execution_count": 62,
     "metadata": {},
     "output_type": "execute_result"
    }
   ],
   "source": [
    "pred_test[:10]"
   ]
  },
  {
   "cell_type": "code",
   "execution_count": 68,
   "id": "af5f124b",
   "metadata": {},
   "outputs": [
    {
     "data": {
      "text/html": [
       "<div>\n",
       "<style scoped>\n",
       "    .dataframe tbody tr th:only-of-type {\n",
       "        vertical-align: middle;\n",
       "    }\n",
       "\n",
       "    .dataframe tbody tr th {\n",
       "        vertical-align: top;\n",
       "    }\n",
       "\n",
       "    .dataframe thead th {\n",
       "        text-align: right;\n",
       "    }\n",
       "</style>\n",
       "<table border=\"1\" class=\"dataframe\">\n",
       "  <thead>\n",
       "    <tr style=\"text-align: right;\">\n",
       "      <th></th>\n",
       "      <th>churn</th>\n",
       "    </tr>\n",
       "    <tr>\n",
       "      <th>id</th>\n",
       "      <th></th>\n",
       "    </tr>\n",
       "  </thead>\n",
       "  <tbody>\n",
       "    <tr>\n",
       "      <th>1</th>\n",
       "      <td>0</td>\n",
       "    </tr>\n",
       "    <tr>\n",
       "      <th>2</th>\n",
       "      <td>0</td>\n",
       "    </tr>\n",
       "    <tr>\n",
       "      <th>3</th>\n",
       "      <td>1</td>\n",
       "    </tr>\n",
       "    <tr>\n",
       "      <th>4</th>\n",
       "      <td>0</td>\n",
       "    </tr>\n",
       "    <tr>\n",
       "      <th>5</th>\n",
       "      <td>0</td>\n",
       "    </tr>\n",
       "  </tbody>\n",
       "</table>\n",
       "</div>"
      ],
      "text/plain": [
       "    churn\n",
       "id       \n",
       "1       0\n",
       "2       0\n",
       "3       1\n",
       "4       0\n",
       "5       0"
      ]
     },
     "execution_count": 68,
     "metadata": {},
     "output_type": "execute_result"
    }
   ],
   "source": [
    "submit={'churn':pred_test}\n",
    "submission=pd.DataFrame(submit,index=np.arange(1,len(test)+1))\n",
    "submission.index.name='id'\n",
    "submission.head()"
   ]
  },
  {
   "cell_type": "code",
   "execution_count": 69,
   "id": "f71fa70b",
   "metadata": {},
   "outputs": [
    {
     "data": {
      "text/plain": [
       "(750, 1)"
      ]
     },
     "execution_count": 69,
     "metadata": {},
     "output_type": "execute_result"
    }
   ],
   "source": [
    "submission.shape"
   ]
  },
  {
   "cell_type": "code",
   "execution_count": 70,
   "id": "3dfca36a",
   "metadata": {},
   "outputs": [],
   "source": [
    "submission.to_csv('submission.csv')"
   ]
  },
  {
   "cell_type": "code",
   "execution_count": null,
   "id": "2836ba49",
   "metadata": {},
   "outputs": [],
   "source": []
  },
  {
   "cell_type": "code",
   "execution_count": null,
   "id": "06f1976e",
   "metadata": {},
   "outputs": [],
   "source": []
  }
 ],
 "metadata": {
  "kernelspec": {
   "display_name": "Python 3 (ipykernel)",
   "language": "python",
   "name": "python3"
  },
  "language_info": {
   "codemirror_mode": {
    "name": "ipython",
    "version": 3
   },
   "file_extension": ".py",
   "mimetype": "text/x-python",
   "name": "python",
   "nbconvert_exporter": "python",
   "pygments_lexer": "ipython3",
   "version": "3.9.13"
  }
 },
 "nbformat": 4,
 "nbformat_minor": 5
}
